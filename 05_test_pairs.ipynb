{
 "cells": [
  {
   "cell_type": "markdown",
   "metadata": {},
   "source": [
    "https://www.pythonfordatascience.org/factorial-anova-python/"
   ]
  },
  {
   "cell_type": "code",
   "execution_count": null,
   "metadata": {},
   "outputs": [],
   "source": [
    "import numpy as np\n",
    "import pandas as pd\n",
    "import matplotlib.pyplot as plt\n",
    "\n",
    "from sklearn.decomposition import PCA\n",
    "from itertools import permutations, product, combinations\n",
    "from scipy.stats import pearsonr, spearmanr, mannwhitneyu, ks_2samp\n",
    "\n",
    "from itertools import permutations\n",
    "from itertools import combinations"
   ]
  },
  {
   "cell_type": "code",
   "execution_count": null,
   "metadata": {},
   "outputs": [],
   "source": [
    "#https://www.scribbr.com/statistics/two-way-anova/\n",
    "import statsmodels.api as sm\n",
    "from statsmodels.formula.api import ols\n",
    "import statsmodels.stats.multitest as multi"
   ]
  },
  {
   "cell_type": "code",
   "execution_count": null,
   "metadata": {},
   "outputs": [],
   "source": [
    "import warnings\n",
    "from statsmodels.tools.sm_exceptions import ConvergenceWarning, HessianInversionWarning, ValueWarning\n",
    "# ignore these warning\n",
    "warnings.filterwarnings(\"ignore\", category=ConvergenceWarning)\n",
    "warnings.filterwarnings(\"ignore\", category=HessianInversionWarning)\n",
    "warnings.filterwarnings(\"ignore\", category=ValueWarning)\n",
    "warnings.filterwarnings(\"ignore\", category=RuntimeWarning)"
   ]
  },
  {
   "cell_type": "code",
   "execution_count": null,
   "metadata": {},
   "outputs": [],
   "source": [
    "def FC(group1, group2):\n",
    "    return (np.mean(group2) - np.mean(group1)) / abs((np.mean(group2) + np.mean(group1)))"
   ]
  },
  {
   "cell_type": "markdown",
   "metadata": {},
   "source": [
    "## Settings"
   ]
  },
  {
   "cell_type": "code",
   "execution_count": null,
   "metadata": {},
   "outputs": [],
   "source": [
    "#analysis = \"Fastcore\"\n",
    "analysis = \"iMAT\"\n",
    "\n",
    "#analysis = \"gimme\"\n",
    "#analysis = \"init\"\n",
    "#analysis = \"tinit\""
   ]
  },
  {
   "cell_type": "code",
   "execution_count": null,
   "metadata": {},
   "outputs": [],
   "source": [
    "#analysis_type = \"FVA\"\n",
    "#analysis_type = \"pFBA\"\n",
    "analysis_type = \"sampling\""
   ]
  },
  {
   "cell_type": "markdown",
   "metadata": {},
   "source": [
    "### Sum of squares type"
   ]
  },
  {
   "cell_type": "code",
   "execution_count": null,
   "metadata": {},
   "outputs": [],
   "source": [
    "ss_type = 3\n",
    "\n",
    "if ss_type == 3:\n",
    "    formula = \"activity ~ C(gender, Sum) + C(genotype, Sum) + C(diet, Sum) + C(gender, Sum)*C(genotype, Sum) + C(gender, Sum)*C(diet, Sum) + C(genotype, Sum)*C(diet, Sum) + C(gender, Sum)*C(genotype, Sum)*C(diet, Sum)\"\n",
    "    #formula = \"activity ~ C(gender, Sum) + C(genotype, Sum) + C(diet, Sum)\"\n",
    "else:\n",
    "    formula = \"activity ~ C(gender) + C(genotype) + C(diet) + C(gender)*C(genotype) + C(gender)*C(diet) + C(genotype)*C(diet) + C(gender)*C(genotype)*C(diet)\""
   ]
  },
  {
   "cell_type": "markdown",
   "metadata": {},
   "source": [
    "### Number of reactions to observe \n",
    "Only keep the first `n_reactions` reactions (unless set to zero)"
   ]
  },
  {
   "cell_type": "code",
   "execution_count": null,
   "metadata": {},
   "outputs": [],
   "source": [
    "n_reactions = 0 # all reactions will be included\n",
    "#n_reactions = 10"
   ]
  },
  {
   "cell_type": "markdown",
   "metadata": {},
   "source": [
    "## Read the data"
   ]
  },
  {
   "cell_type": "code",
   "execution_count": null,
   "metadata": {},
   "outputs": [],
   "source": [
    "df = pd.read_csv(\"data\\\\\"+analysis_type+\"_\"+analysis+\".csv\", sep=\";\")"
   ]
  },
  {
   "cell_type": "code",
   "execution_count": null,
   "metadata": {},
   "outputs": [],
   "source": [
    "models = list(df.columns[1:])\n",
    "#models = list(map(lambda x: x.split(\"_\")[1].split(\".\")[0], models))"
   ]
  },
  {
   "cell_type": "code",
   "execution_count": null,
   "metadata": {},
   "outputs": [],
   "source": [
    "df.columns = [df.columns[0]] + models"
   ]
  },
  {
   "cell_type": "markdown",
   "metadata": {},
   "source": [
    "#### Convert values to float and replace nans with zeros"
   ]
  },
  {
   "cell_type": "code",
   "execution_count": null,
   "metadata": {},
   "outputs": [],
   "source": [
    "df[models] = df[models].astype(float)\n",
    "df = df.fillna(0)"
   ]
  },
  {
   "cell_type": "markdown",
   "metadata": {},
   "source": [
    "### Filter the reactions"
   ]
  },
  {
   "cell_type": "markdown",
   "metadata": {},
   "source": [
    "#### Remove the reactions that are always the same"
   ]
  },
  {
   "cell_type": "code",
   "execution_count": null,
   "metadata": {},
   "outputs": [],
   "source": [
    "#df[models].eq(df[models].iloc[:, 0], axis=0).all(axis=1)"
   ]
  },
  {
   "cell_type": "code",
   "execution_count": null,
   "metadata": {},
   "outputs": [],
   "source": [
    "df = df[~df[models].eq(df[models].iloc[:, 0], axis=0).all(axis=1)]"
   ]
  },
  {
   "cell_type": "code",
   "execution_count": null,
   "metadata": {},
   "outputs": [],
   "source": [
    "#df = df.loc[~(df[df.columns[1:]]==0).all(axis=1)]\n",
    "#df = df.loc[~(df[df.columns[1:]]==1).all(axis=1)]"
   ]
  },
  {
   "cell_type": "markdown",
   "metadata": {},
   "source": [
    "#### If `n_reactions` is not zero only retain first `n_reactions`"
   ]
  },
  {
   "cell_type": "code",
   "execution_count": null,
   "metadata": {},
   "outputs": [],
   "source": [
    "if n_reactions:\n",
    "    df = df.head(n_reactions)"
   ]
  },
  {
   "cell_type": "markdown",
   "metadata": {},
   "source": [
    "# Groups"
   ]
  },
  {
   "cell_type": "markdown",
   "metadata": {},
   "source": [
    "## Grouping by genotype"
   ]
  },
  {
   "cell_type": "code",
   "execution_count": null,
   "metadata": {},
   "outputs": [],
   "source": [
    "# WT\n",
    "genotype0 = [\"GSM1405493\",\"GSM1405505\",\"GSM1405517\", \n",
    "              \"GSM1405489\",\"GSM1405501\",\"GSM1405513\",\n",
    "              \"GSM1405485\",\"GSM1405497\",\"GSM1405509\",\n",
    "              \"GSM1405494\",\"GSM1405506\",\"GSM1405518\",\n",
    "              \"GSM1405490\",\"GSM1405502\",\"GSM1405514\",\n",
    "              \"GSM1405486\",\"GSM1405498\",\"GSM1405510\"]\n",
    "# KO\n",
    "genotype1 = [\"GSM1405495\",\"GSM1405507\",\"GSM1405519\",\n",
    "              \"GSM1405491\",\"GSM1405503\",\"GSM1405515\",\n",
    "              \"GSM1405487\",\"GSM1405499\",\"GSM1405511\",\n",
    "              \"GSM1405496\",\"GSM1405508\",\"GSM1405520\",\n",
    "              \"GSM1405492\",\"GSM1405504\",\"GSM1405516\",\n",
    "              \"GSM1405488\",\"GSM1405500\",\"GSM1405512\"]\n",
    "genotype = (genotype0, genotype1)"
   ]
  },
  {
   "cell_type": "markdown",
   "metadata": {},
   "source": [
    "## Grouping by diet"
   ]
  },
  {
   "cell_type": "code",
   "execution_count": null,
   "metadata": {},
   "outputs": [],
   "source": [
    "# LFnC\n",
    "diet0 = [\"GSM1405485\",\"GSM1405497\",\"GSM1405509\",\"GSM1405487\",\"GSM1405499\",\"GSM1405511\",\n",
    "         \"GSM1405486\",\"GSM1405498\",\"GSM1405510\",\"GSM1405488\",\"GSM1405500\",\"GSM1405512\"]\n",
    "\n",
    "# HFnC\n",
    "diet1 = [\"GSM1405489\",\"GSM1405501\",\"GSM1405513\",\"GSM1405491\",\"GSM1405503\",\"GSM1405515\",\n",
    "         \"GSM1405490\",\"GSM1405502\",\"GSM1405514\",\"GSM1405492\",\"GSM1405504\",\"GSM1405516\"]\n",
    "\n",
    "# HFC\n",
    "diet2 = [\"GSM1405493\",\"GSM1405505\",\"GSM1405517\",\"GSM1405495\",\"GSM1405507\",\"GSM1405519\",\n",
    "         \"GSM1405494\",\"GSM1405506\",\"GSM1405518\",\"GSM1405496\",\"GSM1405508\",\"GSM1405520\"]\n",
    "\n",
    "diet = (diet0, diet1, diet2)"
   ]
  },
  {
   "cell_type": "markdown",
   "metadata": {},
   "source": [
    "## Grouping by gender"
   ]
  },
  {
   "cell_type": "code",
   "execution_count": null,
   "metadata": {},
   "outputs": [],
   "source": [
    "# F\n",
    "gender0 = [\"GSM1405493\",\"GSM1405505\",\"GSM1405517\",\n",
    "           \"GSM1405489\",\"GSM1405501\",\"GSM1405513\",\n",
    "           \"GSM1405485\",\"GSM1405497\",\"GSM1405509\",\n",
    "           \"GSM1405495\",\"GSM1405507\",\"GSM1405519\",\n",
    "           \"GSM1405491\",\"GSM1405503\",\"GSM1405515\",\n",
    "           \"GSM1405487\",\"GSM1405499\",\"GSM1405511\"]\n",
    "\n",
    "# M\n",
    "gender1 = [\"GSM1405494\",\"GSM1405506\",\"GSM1405518\",\n",
    "           \"GSM1405490\",\"GSM1405502\",\"GSM1405514\",\n",
    "           \"GSM1405486\",\"GSM1405498\",\"GSM1405510\",\n",
    "           \"GSM1405496\",\"GSM1405508\",\"GSM1405520\",\n",
    "           \"GSM1405492\",\"GSM1405504\",\"GSM1405516\",\n",
    "           \"GSM1405488\",\"GSM1405500\",\"GSM1405512\"]\n",
    "\n",
    "gender = (gender0, gender1)"
   ]
  },
  {
   "cell_type": "markdown",
   "metadata": {},
   "source": [
    "## Groups"
   ]
  },
  {
   "cell_type": "code",
   "execution_count": null,
   "metadata": {},
   "outputs": [],
   "source": [
    "groups = {\"genotype\": genotype, \"diet\": diet, \"gender\": gender}\n",
    "labels = {\"genotype\": (\"WT\",\"KO\"), \"diet\": (\"LFnC\", \"HFnC\", \"HFC\"), \"gender\": (\"F\",\"M\")}"
   ]
  },
  {
   "cell_type": "code",
   "execution_count": null,
   "metadata": {},
   "outputs": [],
   "source": [
    "d = {}\n",
    "\n",
    "for g in groups:\n",
    "    d[g] = {}\n",
    "    for label, group in zip(labels[g], groups[g]):\n",
    "        d[g][label] = group\n",
    "\n",
    "groups = d    "
   ]
  },
  {
   "cell_type": "markdown",
   "metadata": {},
   "source": [
    "## Retain only observed models"
   ]
  },
  {
   "cell_type": "code",
   "execution_count": null,
   "metadata": {},
   "outputs": [],
   "source": [
    "observed = gender0 + gender1"
   ]
  },
  {
   "cell_type": "code",
   "execution_count": null,
   "metadata": {},
   "outputs": [],
   "source": [
    "df = df[[df.columns[0]] + observed]"
   ]
  },
  {
   "cell_type": "code",
   "execution_count": null,
   "metadata": {},
   "outputs": [],
   "source": [
    "df.head()"
   ]
  },
  {
   "cell_type": "markdown",
   "metadata": {},
   "source": [
    "# Organize the data"
   ]
  },
  {
   "cell_type": "code",
   "execution_count": null,
   "metadata": {},
   "outputs": [],
   "source": [
    "df2 = pd.melt(df, id_vars=[\"rxns\"])\n",
    "df2.columns = ['rxn', 'model', 'activity']\n",
    "\n",
    "# already did this\n",
    "## convert activities to float\n",
    "#df2['activity'] = df2['activity'].str.replace(\",\",\".\")\n",
    "#df2['activity'] = df2['activity'].astype(float)\n",
    "\n",
    "## replace nans with zero\n",
    "#df2['activity'] = df2['activity'].fillna(0)"
   ]
  },
  {
   "cell_type": "code",
   "execution_count": null,
   "metadata": {},
   "outputs": [],
   "source": [
    "for factor_label, group in groups.items():\n",
    "    for group_label, group_models in group.items():        \n",
    "        df2.loc[df2['model'].isin(group_models), factor_label] = group_label\n",
    "        "
   ]
  },
  {
   "cell_type": "code",
   "execution_count": null,
   "metadata": {},
   "outputs": [],
   "source": [
    "rxns = df2.rxn.unique()\n",
    "len(rxns)"
   ]
  },
  {
   "cell_type": "markdown",
   "metadata": {},
   "source": [
    "# Test pairs"
   ]
  },
  {
   "cell_type": "code",
   "execution_count": null,
   "metadata": {},
   "outputs": [],
   "source": [
    "genotypes = list(groups['genotype'].keys())\n",
    "genders = list(groups['gender'].keys())\n",
    "diets = list(groups['diet'].keys())"
   ]
  },
  {
   "cell_type": "code",
   "execution_count": null,
   "metadata": {},
   "outputs": [],
   "source": [
    "genotype_pairs = list(combinations(genotypes,2))\n",
    "gender_pairs = list(combinations(genders,2))\n",
    "diet_pairs = list(combinations(diets,2))"
   ]
  },
  {
   "cell_type": "code",
   "execution_count": null,
   "metadata": {},
   "outputs": [],
   "source": [
    "df2[(df2['rxn'] == '34DHPHEt_b')&(df2['gender'] == 'F')].activity.values"
   ]
  },
  {
   "cell_type": "code",
   "execution_count": null,
   "metadata": {},
   "outputs": [],
   "source": [
    "df2[(df2['rxn'] == '34DHPHEt_b')&(df2['gender'] == 'M')].activity.values"
   ]
  },
  {
   "cell_type": "markdown",
   "metadata": {},
   "source": [
    "## Everything together"
   ]
  },
  {
   "cell_type": "code",
   "execution_count": null,
   "metadata": {},
   "outputs": [],
   "source": [
    "\"\"\"\n",
    "GENOTYPE\n",
    "\"\"\"\n",
    "df_genotype = pd.DataFrame()\n",
    "df_genotype['rxn'] = rxns\n",
    "\n",
    "for gender in genders + [\"\"]:\n",
    "    df3 = df2\n",
    "        \n",
    "    if gender:\n",
    "        df3 = df3[df3['gender'] == gender]  \n",
    "    \n",
    "        \n",
    "    for diet in diets + [\"\"]:        \n",
    "        df4 = df3\n",
    "        \n",
    "        if diet:        \n",
    "            df4 = df4[df4['diet'] == diet]                    \n",
    "                \n",
    "        for g1,g2 in genotype_pairs:\n",
    "            \n",
    "            column = \"\"\n",
    "            if gender:\n",
    "                column = gender + \"_\" + column\n",
    "            if diet:\n",
    "                column += diet + \"_\"\n",
    "            \n",
    "            column += \"(\" + g1 + \":\" + g2 +\")\" \n",
    "            column_ks = column+\"[ks]\"\n",
    "            column1 = column.replace(\":\", \"<\")\n",
    "            column2 = column.replace(\":\", \">\")\n",
    "            column_FC = column + \"(FC)\"\n",
    "            \n",
    "            df_genotype[column] = np.nan\n",
    "            group1 = df4[df4['genotype'] == g1]\n",
    "            group2 = df4[df4['genotype'] == g2]\n",
    "            \n",
    "            for reaction in rxns:\n",
    "                r1 = sorted(group1[group1['rxn'] == reaction].activity.values)\n",
    "                r2 = sorted(group2[group2['rxn'] == reaction].activity.values)\n",
    "                \n",
    "                \n",
    "                if r1 == r2:\n",
    "                    mw = 1\n",
    "                    p_R1 = 1\n",
    "                    p_R2 = 1\n",
    "                    ks = 1\n",
    "                    fc = 0\n",
    "                else: \n",
    "                    mw = mannwhitneyu(r1,r2)[1]\n",
    "                    ks = ks_2samp(r1, r2)[1]\n",
    "                    fc = FC(r1, r2)\n",
    "                    \n",
    "                    # omit repeats of the same values within a group\n",
    "                    r1 = np.unique(r1)\n",
    "                    r2 = np.unique(r2)\n",
    "\n",
    "                    # if only 1 value per group is left\n",
    "                    if len(r1)==1 and len(r2)==1:\n",
    "                        if r1 < r2:\n",
    "                            p_R1,p_R2 = 0,1\n",
    "                        elif r1 > r2:\n",
    "                            p_R1,p_R2 = 1,0\n",
    "                        else:\n",
    "                            p_R1,p_R2 = 1,1\n",
    "                    else:                                       \n",
    "                        R1, p_R1 = spearmanr(np.arange(len(r1) + len(r2)), np.concatenate((r1, r2)))\n",
    "                        if R1 < 0:\n",
    "                            p_R1 = 1\n",
    "                        \n",
    "                        R2, p_R2 = spearmanr(np.arange(len(r1) + len(r2)), np.concatenate((r2, r1)))\n",
    "                        if R2 < 0:\n",
    "                            p_R2 = 1             \n",
    "                    \n",
    "                df_genotype.loc[df_genotype[\"rxn\"]==reaction, column] = mw    \n",
    "                df_genotype.loc[df_genotype[\"rxn\"]==reaction, column_ks] = ks\n",
    "                df_genotype.loc[df_genotype[\"rxn\"]==reaction, column1] = p_R1    \n",
    "                df_genotype.loc[df_genotype[\"rxn\"]==reaction, column2] = p_R2\n",
    "                df_genotype.loc[df_genotype[\"rxn\"]==reaction, column_FC] = fc \n",
    "                 \n",
    "                \n",
    "                \n",
    "\"\"\"\n",
    "GENDER\n",
    "\"\"\"\n",
    "df_gender = pd.DataFrame()\n",
    "df_gender['rxn'] = rxns\n",
    "\n",
    "for genotype in genotypes + [\"\"]:\n",
    "    df3 = df2\n",
    "        \n",
    "    if genotype:\n",
    "        df3 = df3[df3['genotype'] == genotype]  \n",
    "    \n",
    "        \n",
    "    for diet in diets + [\"\"]:        \n",
    "        df4 = df3\n",
    "        \n",
    "        if diet:        \n",
    "            df4 = df4[df4['diet'] == diet]                    \n",
    "                \n",
    "        for g1,g2 in gender_pairs:\n",
    "            \n",
    "            column = \"\"\n",
    "            if genotype:\n",
    "                column = genotype + \"_\" + column\n",
    "            \n",
    "            if diet:\n",
    "                column += diet + \"_\"\n",
    "            \n",
    "            column += \"(\" + g1 + \":\" + g2 +\")\" \n",
    "            column_ks = column+\"[ks]\"\n",
    "            column1 = column.replace(\":\", \"<\")\n",
    "            column2 = column.replace(\":\", \">\") \n",
    "            column_FC = column + \"(FC)\"\n",
    "            \n",
    "            df_gender[column] = np.nan\n",
    "            group1 = df4[df4['gender'] == g1]\n",
    "            group2 = df4[df4['gender'] == g2]\n",
    "            \n",
    "            for reaction in rxns:\n",
    "                r1 = sorted(group1[group1['rxn'] == reaction].activity.values)\n",
    "                r2 = sorted(group2[group2['rxn'] == reaction].activity.values)\n",
    "           \n",
    "                if r1 == r2:\n",
    "                    mw = 1\n",
    "                    ks = 1\n",
    "                    p_R1 = 1\n",
    "                    p_R2 = 1\n",
    "                    fc = 0\n",
    "                else: \n",
    "                    mw = mannwhitneyu(r1,r2)[1]\n",
    "                    ks = ks_2samp(r1, r2)[1]\n",
    "                    fc = FC(r1, r2)\n",
    "                    \n",
    "                    # omit repeats of the same values within a group\n",
    "                    r1 = np.unique(r1)\n",
    "                    r2 = np.unique(r2)\n",
    "\n",
    "                    # if only 1 value per group is left\n",
    "                    if len(r1)==1 and len(r2)==1:\n",
    "                        if r1 < r2:\n",
    "                            p_R1,p_R2 = 0,1\n",
    "                        elif r1 > r2:\n",
    "                            p_R1,p_R2 = 1,0\n",
    "                        else:\n",
    "                            p_R1,p_R2 = 1,1\n",
    "                    else:                                       \n",
    "                        R1, p_R1 = spearmanr(np.arange(len(r1) + len(r2)), np.concatenate((r1, r2)))\n",
    "                        if R1 < 0:\n",
    "                            p_R1 = 1\n",
    "                        \n",
    "                        R2, p_R2 = spearmanr(np.arange(len(r1) + len(r2)), np.concatenate((r2, r1)))\n",
    "                        if R2 < 0:\n",
    "                            p_R2 = 1\n",
    "                    \n",
    "                df_gender.loc[df_gender[\"rxn\"]==reaction, column] = mw    \n",
    "                df_gender.loc[df_gender[\"rxn\"]==reaction, column_ks] = ks\n",
    "                df_gender.loc[df_gender[\"rxn\"]==reaction, column1] = p_R1    \n",
    "                df_gender.loc[df_gender[\"rxn\"]==reaction, column2] = p_R2   \n",
    "                df_gender.loc[df_gender[\"rxn\"]==reaction, column_FC] = fc                     \n",
    "        \n",
    "\"\"\"\n",
    "DIET\n",
    "\"\"\"\n",
    "\n",
    "df_diet = pd.DataFrame()\n",
    "df_diet['rxn'] = rxns\n",
    "\n",
    "for gender in genders + [\"\"]:\n",
    "    df3 = df2\n",
    "        \n",
    "    if gender:\n",
    "        df3 = df3[df3['gender'] == gender]  \n",
    "    \n",
    "        \n",
    "    for genotype in genotypes + [\"\"]:        \n",
    "        df4 = df3\n",
    "        \n",
    "        if genotype:        \n",
    "            df4 = df4[df4['genotype'] == genotype]                    \n",
    "                \n",
    "        for g1,g2 in diet_pairs:\n",
    "            \n",
    "            column = \"\"\n",
    "            if gender:\n",
    "                column = gender + \"_\" + column\n",
    "            \n",
    "            if genotype:\n",
    "                column += genotype + \"_\"\n",
    "            \n",
    "            column += \"(\" + g1 + \":\" + g2 +\")\" \n",
    "            column_ks = column+\"[ks]\"\n",
    "            column1 = column.replace(\":\", \"<\")\n",
    "            column2 = column.replace(\":\", \">\") \n",
    "            column_FC = column + \"(FC)\"\n",
    "            \n",
    "            df_diet[column] = np.nan\n",
    "            group1 = df4[df4['diet'] == g1]\n",
    "            group2 = df4[df4['diet'] == g2]\n",
    "            \n",
    "            for reaction in rxns:\n",
    "                r1 = sorted(group1[group1['rxn'] == reaction].activity.values)\n",
    "                r2 = sorted(group2[group2['rxn'] == reaction].activity.values)\n",
    "               \n",
    "                if r1 == r2:\n",
    "                    mw = 1\n",
    "                    p_R1 = 1\n",
    "                    p_R2 = 1\n",
    "                    ks = 1\n",
    "                    fc = 0\n",
    "                else: \n",
    "                    mw = mannwhitneyu(r1,r2)[1]\n",
    "                    ks = ks_2samp(r1, r2)[1]\n",
    "                    fc = FC(r1, r2)\n",
    "                    \n",
    "                    # omit repeats of the same values within a group\n",
    "                    r1 = np.unique(r1)\n",
    "                    r2 = np.unique(r2)\n",
    "\n",
    "                    # if only 1 value per group is left\n",
    "                    if len(r1)==1 and len(r2)==1:\n",
    "                        if r1 < r2:\n",
    "                            p_R1,p_R2 = 0,1\n",
    "                        elif r1 > r2:\n",
    "                            p_R1,p_R2 = 1,0\n",
    "                        else:\n",
    "                            p_R1,p_R2 = 1,1\n",
    "                    else:                                       \n",
    "                        R1, p_R1 = spearmanr(np.arange(len(r1) + len(r2)), np.concatenate((r1, r2)))\n",
    "                        if R1 < 0:\n",
    "                            p_R1 = 1\n",
    "                        \n",
    "                        R2, p_R2 = spearmanr(np.arange(len(r1) + len(r2)), np.concatenate((r2, r1)))\n",
    "                        if R2 < 0:\n",
    "                            p_R2 = 1\n",
    "                    \n",
    "                df_diet.loc[df_diet[\"rxn\"]==reaction, column] = mw    \n",
    "                df_diet.loc[df_diet[\"rxn\"]==reaction, column_ks] = ks\n",
    "                df_diet.loc[df_diet[\"rxn\"]==reaction, column1] = p_R1    \n",
    "                df_diet.loc[df_diet[\"rxn\"]==reaction, column2] = p_R2\n",
    "                df_diet.loc[df_diet[\"rxn\"]==reaction, column_FC] = fc \n",
    "                \n",
    "                \n",
    "    \n",
    "        "
   ]
  },
  {
   "cell_type": "code",
   "execution_count": null,
   "metadata": {},
   "outputs": [],
   "source": [
    "df_genotype"
   ]
  },
  {
   "cell_type": "markdown",
   "metadata": {},
   "source": [
    "## Save the results"
   ]
  },
  {
   "cell_type": "code",
   "execution_count": null,
   "metadata": {},
   "outputs": [],
   "source": [
    "df_genotype.to_csv(\"results_pairs\\\\\" + analysis_type + \"_\" + analysis + \"_genotype_compare.csv\", index=False)\n",
    "df_gender.to_csv(\"results_pairs\\\\\" + analysis_type + \"_\" + analysis + \"_gender_compare.csv\", index=False)\n",
    "df_diet.to_csv(\"results_pairs\\\\\" + analysis_type + \"_\" + analysis + \"_diet_compare.csv\", index=False)"
   ]
  },
  {
   "cell_type": "code",
   "execution_count": null,
   "metadata": {},
   "outputs": [],
   "source": [
    "df_genotype_q = df_genotype.copy()\n",
    "df_gender_q = df_gender.copy()\n",
    "df_diet_q = df_diet.copy()\n",
    "\n",
    "for c in df_genotype_q.columns[1:]:    \n",
    "    df_genotype_q[c] = multi.multipletests(df_genotype_q[c], method = 'fdr_bh')[1]\n",
    "for c in df_gender_q.columns[1:]:\n",
    "    df_gender_q[c] = multi.multipletests(df_gender_q[c], method = 'fdr_bh')[1]\n",
    "for c in df_diet_q.columns[1:]:\n",
    "    df_diet_q[c] = multi.multipletests(df_diet_q[c], method = 'fdr_bh')[1]"
   ]
  },
  {
   "cell_type": "code",
   "execution_count": null,
   "metadata": {},
   "outputs": [],
   "source": [
    "df_genotype_q.to_csv(\"results_pairs\\\\\" + analysis_type + \"_\" + analysis + \"_genotype_compare_q.csv\", index=False)\n",
    "df_gender_q.to_csv(\"results_pairs\\\\\" + analysis_type + \"_\" + analysis + \"_gender_compare_q.csv\", index=False)\n",
    "df_diet_q.to_csv(\"results_pairs\\\\\" + analysis_type + \"_\" + analysis + \"_diet_compare_q.csv\", index=False)"
   ]
  },
  {
   "cell_type": "code",
   "execution_count": null,
   "metadata": {},
   "outputs": [],
   "source": [
    "df_genotype_q[(df_genotype_q.iloc[:,1:] < 0.05).any(axis=1)]"
   ]
  },
  {
   "cell_type": "code",
   "execution_count": null,
   "metadata": {},
   "outputs": [],
   "source": [
    "spearmanr(np.arange(len(r1) + len(r2)), np.concatenate((r1, r2)))"
   ]
  },
  {
   "cell_type": "code",
   "execution_count": null,
   "metadata": {},
   "outputs": [],
   "source": []
  },
  {
   "cell_type": "code",
   "execution_count": null,
   "metadata": {},
   "outputs": [],
   "source": []
  },
  {
   "cell_type": "code",
   "execution_count": null,
   "metadata": {},
   "outputs": [],
   "source": []
  },
  {
   "cell_type": "code",
   "execution_count": null,
   "metadata": {},
   "outputs": [],
   "source": []
  },
  {
   "cell_type": "code",
   "execution_count": null,
   "metadata": {},
   "outputs": [],
   "source": []
  },
  {
   "cell_type": "code",
   "execution_count": null,
   "metadata": {},
   "outputs": [],
   "source": [
    "r1 = np.array([0, 1])\n",
    "r2 = np.array([3])\n",
    "\n",
    "r1 = sorted(r1)\n",
    "r2 = sorted(r2)\n",
    "\n",
    "r1 = np.unique(r1)\n",
    "r2 = np.unique(r2)\n",
    "\n",
    "print(r1,r2)\n",
    "\n",
    "if len(r1)==1 and len(r2)==1:\n",
    "    if r1 < r2:\n",
    "        print((0,1))\n",
    "    else:\n",
    "        print((1,0))\n",
    "        \n",
    "print(\"Spearman\")\n",
    "print(np.concatenate((r1, r2)), end=\": \")\n",
    "print(spearmanr(np.arange(len(r1) + len(r2)), np.concatenate((r1, r2))))\n",
    "print(np.concatenate((r2, r1)), end=\": \")\n",
    "print(spearmanr(np.arange(len(r1) + len(r2)), np.concatenate((r2, r1))))\n",
    "\n",
    "print(\"Pearson\")\n",
    "print(np.concatenate((r1, r2)), end=\": \")\n",
    "print(pearsonr(np.arange(len(r1) + len(r2)), np.concatenate((r1, r2))))\n",
    "print(np.concatenate((r2, r1)), end=\": \")\n",
    "print(pearsonr(np.arange(len(r1) + len(r2)), np.concatenate((r2, r1))))\n",
    "\n"
   ]
  },
  {
   "cell_type": "code",
   "execution_count": null,
   "metadata": {},
   "outputs": [],
   "source": [
    "spearmanr([0,1,3],[2,3,4])"
   ]
  },
  {
   "cell_type": "code",
   "execution_count": null,
   "metadata": {},
   "outputs": [],
   "source": []
  }
 ],
 "metadata": {
  "kernelspec": {
   "display_name": "Python 3.7.3 64-bit ('base': conda)",
   "language": "python",
   "name": "python37364bitbasecondacd385dda59854559b44e3f82ede14f15"
  },
  "language_info": {
   "codemirror_mode": {
    "name": "ipython",
    "version": 3
   },
   "file_extension": ".py",
   "mimetype": "text/x-python",
   "name": "python",
   "nbconvert_exporter": "python",
   "pygments_lexer": "ipython3",
   "version": "3.7.3"
  }
 },
 "nbformat": 4,
 "nbformat_minor": 2
}
