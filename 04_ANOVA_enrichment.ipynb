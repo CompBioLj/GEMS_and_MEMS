{
 "cells": [
  {
   "cell_type": "markdown",
   "metadata": {},
   "source": [
    "# Enrichment test\n",
    "What is the probability to randomly select at least k \"changed\" reactions out of n \"changed\" reactions when selecting N out of M reactions.   \n",
    "* k: number of diferentially expressed reactions in a subsystem,\n",
    "* n: number of diferentially expressed reactions in the model,\n",
    "* N: number of reactions in a subsystem,\n",
    "* M: number of reactions in the model.\n",
    "\n",
    "$P(x \\geq k) = 1 - hypergeom.cdf(k-1, M, n, N)$"
   ]
  },
  {
   "cell_type": "code",
   "execution_count": 1,
   "metadata": {},
   "outputs": [],
   "source": [
    "import numpy as np\n",
    "import pandas as pd\n",
    "import matplotlib.pyplot as plt\n",
    "\n",
    "from sklearn.decomposition import PCA\n",
    "from itertools import permutations, product, combinations\n",
    "from scipy.stats import pearsonr, spearmanr, mannwhitneyu, hypergeom\n",
    "\n",
    "from itertools import permutations\n",
    "from itertools import combinations"
   ]
  },
  {
   "cell_type": "code",
   "execution_count": 2,
   "metadata": {},
   "outputs": [],
   "source": [
    "#https://www.scribbr.com/statistics/two-way-anova/\n",
    "import statsmodels.api as sm\n",
    "from statsmodels.formula.api import ols\n",
    "import statsmodels.stats.multitest as multi"
   ]
  },
  {
   "cell_type": "code",
   "execution_count": 3,
   "metadata": {},
   "outputs": [],
   "source": [
    "import warnings\n",
    "from statsmodels.tools.sm_exceptions import ConvergenceWarning, HessianInversionWarning, ValueWarning\n",
    "# ignore these warning\n",
    "warnings.filterwarnings(\"ignore\", category=ConvergenceWarning)\n",
    "warnings.filterwarnings(\"ignore\", category=HessianInversionWarning)\n",
    "warnings.filterwarnings(\"ignore\", category=ValueWarning)\n",
    "warnings.filterwarnings(\"ignore\", category=RuntimeWarning)"
   ]
  },
  {
   "cell_type": "markdown",
   "metadata": {},
   "source": [
    "## Settings"
   ]
  },
  {
   "cell_type": "code",
   "execution_count": 4,
   "metadata": {},
   "outputs": [],
   "source": [
    "#analysis = \"Fastcore\"\n",
    "analysis = \"iMAT\"\n",
    "\n",
    "#analysis = \"gimme\"\n",
    "#analysis = \"init\"\n",
    "#analysis = \"tinit\""
   ]
  },
  {
   "cell_type": "code",
   "execution_count": 5,
   "metadata": {},
   "outputs": [],
   "source": [
    "analysis_type = \"FVA\"\n",
    "#analysis_type = \"pFBA\""
   ]
  },
  {
   "cell_type": "code",
   "execution_count": 6,
   "metadata": {},
   "outputs": [],
   "source": [
    "fdr = True\n",
    "randomization = False"
   ]
  },
  {
   "cell_type": "markdown",
   "metadata": {},
   "source": [
    "## Read the data"
   ]
  },
  {
   "cell_type": "code",
   "execution_count": 7,
   "metadata": {},
   "outputs": [],
   "source": [
    "reactions =  pd.read_csv(\"data\\\\\"+analysis_type+\"_\"+analysis+\".csv\", sep=\";\").iloc[:,0]"
   ]
  },
  {
   "cell_type": "code",
   "execution_count": 8,
   "metadata": {},
   "outputs": [],
   "source": [
    "if randomization:\n",
    "    if fdr:\n",
    "        df = pd.read_csv(\"results_ANOVA\\\\\"+analysis_type+\"_\"+analysis+\"_randomization_q.csv\") \n",
    "    else:\n",
    "        df = pd.read_csv(\"results_ANOVA\\\\\"+analysis_type+\"_\"+analysis+\"_randomization_p.csv\") \n",
    "else:\n",
    "    if fdr:\n",
    "        df = pd.read_csv(\"results_ANOVA\\\\\"+analysis_type+\"_\"+analysis+\"_basic_q.csv\") \n",
    "    else:\n",
    "        df = pd.read_csv(\"results_ANOVA\\\\\"+analysis_type+\"_\"+analysis+\"_basic_q.csv\") \n",
    "\n",
    "tests = list(df.columns[1:])"
   ]
  },
  {
   "cell_type": "markdown",
   "metadata": {},
   "source": [
    "### Fill the analysis data with all the reactions\n",
    "As a basis I take the union of the reactions included in the selected group of models."
   ]
  },
  {
   "cell_type": "code",
   "execution_count": 9,
   "metadata": {},
   "outputs": [],
   "source": [
    "df_reactions = pd.DataFrame(columns=[\"rxn\"])\n",
    "df_reactions[\"rxn\"] = reactions\n",
    "\n",
    "df = pd.merge(df, df_reactions, how=\"outer\").fillna(1)"
   ]
  },
  {
   "cell_type": "markdown",
   "metadata": {},
   "source": [
    "### Get the subsystems data"
   ]
  },
  {
   "cell_type": "code",
   "execution_count": 10,
   "metadata": {},
   "outputs": [
    {
     "data": {
      "text/html": [
       "<div>\n",
       "<style scoped>\n",
       "    .dataframe tbody tr th:only-of-type {\n",
       "        vertical-align: middle;\n",
       "    }\n",
       "\n",
       "    .dataframe tbody tr th {\n",
       "        vertical-align: top;\n",
       "    }\n",
       "\n",
       "    .dataframe thead th {\n",
       "        text-align: right;\n",
       "    }\n",
       "</style>\n",
       "<table border=\"1\" class=\"dataframe\">\n",
       "  <thead>\n",
       "    <tr style=\"text-align: right;\">\n",
       "      <th></th>\n",
       "      <th>rxn</th>\n",
       "      <th>subsystem</th>\n",
       "    </tr>\n",
       "  </thead>\n",
       "  <tbody>\n",
       "    <tr>\n",
       "      <th>0</th>\n",
       "      <td>10FTHF5GLUtl</td>\n",
       "      <td>Transport, lysosomal</td>\n",
       "    </tr>\n",
       "    <tr>\n",
       "      <th>1</th>\n",
       "      <td>10FTHF5GLUtm</td>\n",
       "      <td>Transport, mitochondrial</td>\n",
       "    </tr>\n",
       "    <tr>\n",
       "      <th>2</th>\n",
       "      <td>10FTHF6GLUtl</td>\n",
       "      <td>Transport, lysosomal</td>\n",
       "    </tr>\n",
       "    <tr>\n",
       "      <th>3</th>\n",
       "      <td>10FTHF6GLUtm</td>\n",
       "      <td>Transport, mitochondrial</td>\n",
       "    </tr>\n",
       "    <tr>\n",
       "      <th>4</th>\n",
       "      <td>10FTHF7GLUtl</td>\n",
       "      <td>Transport, lysosomal</td>\n",
       "    </tr>\n",
       "  </tbody>\n",
       "</table>\n",
       "</div>"
      ],
      "text/plain": [
       "            rxn                 subsystem\n",
       "0  10FTHF5GLUtl      Transport, lysosomal\n",
       "1  10FTHF5GLUtm  Transport, mitochondrial\n",
       "2  10FTHF6GLUtl      Transport, lysosomal\n",
       "3  10FTHF6GLUtm  Transport, mitochondrial\n",
       "4  10FTHF7GLUtl      Transport, lysosomal"
      ]
     },
     "execution_count": 10,
     "metadata": {},
     "output_type": "execute_result"
    }
   ],
   "source": [
    "df_subsystems = pd.read_csv(\"models\\\\iMM865_subsystems.txt\", sep=\";\")\n",
    "df_subsystems_f = df_subsystems.copy()\n",
    "df_subsystems_f['rxn'] = df_subsystems_f['rxn']+'_f'\n",
    "df_subsystems_b = df_subsystems.copy()\n",
    "df_subsystems_b['rxn'] = df_subsystems_b['rxn']+'_b'\n",
    "\n",
    "df_subsystems = pd.concat((df_subsystems, df_subsystems_b, df_subsystems_f), ignore_index=True).reindex()\n",
    "\n",
    "df_subsystems.head()"
   ]
  },
  {
   "cell_type": "markdown",
   "metadata": {},
   "source": [
    "Keep only the reactions that are present in the observed models"
   ]
  },
  {
   "cell_type": "code",
   "execution_count": 11,
   "metadata": {},
   "outputs": [],
   "source": [
    "df_subsystems = df_subsystems[df_subsystems.rxn.isin(reactions)]"
   ]
  },
  {
   "cell_type": "code",
   "execution_count": 12,
   "metadata": {},
   "outputs": [],
   "source": [
    "subsystems = df_subsystems.subsystem.dropna().unique()"
   ]
  },
  {
   "cell_type": "code",
   "execution_count": 13,
   "metadata": {},
   "outputs": [],
   "source": [
    "#df_subsystems[df_subsystems['rxn'].str.endswith(\"_f\")]"
   ]
  },
  {
   "cell_type": "markdown",
   "metadata": {},
   "source": [
    "### Merge"
   ]
  },
  {
   "cell_type": "code",
   "execution_count": 14,
   "metadata": {},
   "outputs": [],
   "source": [
    "df = pd.merge(df, df_subsystems, how=\"left\")"
   ]
  },
  {
   "cell_type": "code",
   "execution_count": 15,
   "metadata": {},
   "outputs": [
    {
     "data": {
      "text/html": [
       "<div>\n",
       "<style scoped>\n",
       "    .dataframe tbody tr th:only-of-type {\n",
       "        vertical-align: middle;\n",
       "    }\n",
       "\n",
       "    .dataframe tbody tr th {\n",
       "        vertical-align: top;\n",
       "    }\n",
       "\n",
       "    .dataframe thead th {\n",
       "        text-align: right;\n",
       "    }\n",
       "</style>\n",
       "<table border=\"1\" class=\"dataframe\">\n",
       "  <thead>\n",
       "    <tr style=\"text-align: right;\">\n",
       "      <th></th>\n",
       "      <th>rxn</th>\n",
       "      <th>subsystem</th>\n",
       "      <th>q(gender)</th>\n",
       "      <th>q(genotype)</th>\n",
       "      <th>q(diet)</th>\n",
       "      <th>q(gender,genotype)</th>\n",
       "      <th>q(gender,diet)</th>\n",
       "      <th>q(genotype,diet)</th>\n",
       "      <th>q(gender,genotype,diet)</th>\n",
       "    </tr>\n",
       "  </thead>\n",
       "  <tbody>\n",
       "    <tr>\n",
       "      <th>0</th>\n",
       "      <td>13_CIS_RETNte_b</td>\n",
       "      <td>NaN</td>\n",
       "      <td>0.873724</td>\n",
       "      <td>0.824109</td>\n",
       "      <td>0.859399</td>\n",
       "      <td>0.835817</td>\n",
       "      <td>0.870207</td>\n",
       "      <td>0.573116</td>\n",
       "      <td>1.0</td>\n",
       "    </tr>\n",
       "    <tr>\n",
       "      <th>1</th>\n",
       "      <td>13_CIS_RETNte_f</td>\n",
       "      <td>NaN</td>\n",
       "      <td>0.873724</td>\n",
       "      <td>0.824109</td>\n",
       "      <td>0.859399</td>\n",
       "      <td>0.835817</td>\n",
       "      <td>0.870207</td>\n",
       "      <td>0.573116</td>\n",
       "      <td>1.0</td>\n",
       "    </tr>\n",
       "    <tr>\n",
       "      <th>2</th>\n",
       "      <td>1331TACRhr</td>\n",
       "      <td>Drug metabolism</td>\n",
       "      <td>0.873724</td>\n",
       "      <td>0.616996</td>\n",
       "      <td>0.859399</td>\n",
       "      <td>0.620733</td>\n",
       "      <td>0.870207</td>\n",
       "      <td>0.573116</td>\n",
       "      <td>1.0</td>\n",
       "    </tr>\n",
       "    <tr>\n",
       "      <th>3</th>\n",
       "      <td>1331TACRtev</td>\n",
       "      <td>Drug metabolism</td>\n",
       "      <td>0.873724</td>\n",
       "      <td>0.616996</td>\n",
       "      <td>0.859399</td>\n",
       "      <td>0.620733</td>\n",
       "      <td>0.870207</td>\n",
       "      <td>0.573116</td>\n",
       "      <td>1.0</td>\n",
       "    </tr>\n",
       "    <tr>\n",
       "      <th>4</th>\n",
       "      <td>13DMThr</td>\n",
       "      <td>Drug metabolism</td>\n",
       "      <td>0.873724</td>\n",
       "      <td>0.616996</td>\n",
       "      <td>0.859399</td>\n",
       "      <td>0.620733</td>\n",
       "      <td>0.870207</td>\n",
       "      <td>0.573116</td>\n",
       "      <td>1.0</td>\n",
       "    </tr>\n",
       "  </tbody>\n",
       "</table>\n",
       "</div>"
      ],
      "text/plain": [
       "               rxn        subsystem  q(gender)  q(genotype)   q(diet)  \\\n",
       "0  13_CIS_RETNte_b              NaN   0.873724     0.824109  0.859399   \n",
       "1  13_CIS_RETNte_f              NaN   0.873724     0.824109  0.859399   \n",
       "2       1331TACRhr  Drug metabolism   0.873724     0.616996  0.859399   \n",
       "3      1331TACRtev  Drug metabolism   0.873724     0.616996  0.859399   \n",
       "4          13DMThr  Drug metabolism   0.873724     0.616996  0.859399   \n",
       "\n",
       "   q(gender,genotype)  q(gender,diet)  q(genotype,diet)  \\\n",
       "0            0.835817        0.870207          0.573116   \n",
       "1            0.835817        0.870207          0.573116   \n",
       "2            0.620733        0.870207          0.573116   \n",
       "3            0.620733        0.870207          0.573116   \n",
       "4            0.620733        0.870207          0.573116   \n",
       "\n",
       "   q(gender,genotype,diet)  \n",
       "0                      1.0  \n",
       "1                      1.0  \n",
       "2                      1.0  \n",
       "3                      1.0  \n",
       "4                      1.0  "
      ]
     },
     "execution_count": 15,
     "metadata": {},
     "output_type": "execute_result"
    }
   ],
   "source": [
    "df = df[['rxn', 'subsystem'] + tests]\n",
    "df.head()"
   ]
  },
  {
   "cell_type": "markdown",
   "metadata": {},
   "source": [
    "## Analysis"
   ]
  },
  {
   "cell_type": "code",
   "execution_count": 16,
   "metadata": {},
   "outputs": [],
   "source": [
    "df_enrich = pd.DataFrame(columns = ['subsystem'] + tests)\n",
    "df_enrich['subsystem'] = subsystems\n",
    "\n",
    "n_all = len(reactions)\n",
    "\n",
    "for test in tests:\n",
    "    df_test = df[[test,'subsystem']]\n",
    "    n_signif_all = (df_test[test] < 0.05).sum()         \n",
    "    for subsystem in subsystems:\n",
    "        df_sub = df_test[df_test.subsystem == subsystem]\n",
    "        n_sub = len(df_sub)\n",
    "        n_signif_sub = (df_sub[test] < 0.05).sum()\n",
    "        \n",
    "        M = n_all # all reactions in a model\n",
    "        n = n_signif_all # all significant \n",
    "        N = n_sub # reactions in a subsystem\n",
    "        k = n_signif_sub # significant in a subsystem\n",
    "        \n",
    "        if n:\n",
    "            p = 1 - hypergeom.cdf(k-1, M, n, N)\n",
    "        else:\n",
    "            p = 1.0\n",
    "            \n",
    "        df_enrich.loc[(df_enrich['subsystem'] == subsystem), test] = p\n",
    "        \n",
    "        #print(k, M, n, N)     "
   ]
  },
  {
   "cell_type": "code",
   "execution_count": 17,
   "metadata": {},
   "outputs": [
    {
     "data": {
      "text/plain": [
       "5.880740339136992e-11"
      ]
     },
     "execution_count": 17,
     "metadata": {},
     "output_type": "execute_result"
    }
   ],
   "source": [
    "1-hypergeom.cdf(10, 4000, 30, 100)"
   ]
  },
  {
   "cell_type": "markdown",
   "metadata": {},
   "source": [
    "## Save the results"
   ]
  },
  {
   "cell_type": "code",
   "execution_count": 18,
   "metadata": {},
   "outputs": [],
   "source": [
    "df_enrich_q = df_enrich.copy()\n",
    "\n",
    "for c in df_enrich_q.columns[1:]:    \n",
    "    df_enrich_q[c] = multi.multipletests(df_enrich_q[c], method = 'fdr_bh')[1]"
   ]
  },
  {
   "cell_type": "code",
   "execution_count": 19,
   "metadata": {},
   "outputs": [],
   "source": [
    "df_enrich.columns = list(map(lambda x: x.replace(\"q(\", \"p(\"), df_enrich.columns))"
   ]
  },
  {
   "cell_type": "code",
   "execution_count": 20,
   "metadata": {},
   "outputs": [],
   "source": [
    "df_enrich.to_csv(\"results_enrich\\\\\" + analysis_type + \"_\" + analysis + \"_ANOVA_enrich.csv\", index=False)\n",
    "df_enrich_q.to_csv(\"results_enrich\\\\\" + analysis_type + \"_\" + analysis + \"_ANOVA_enrich_q.csv\", index=False)\n"
   ]
  },
  {
   "cell_type": "code",
   "execution_count": null,
   "metadata": {},
   "outputs": [],
   "source": []
  },
  {
   "cell_type": "code",
   "execution_count": null,
   "metadata": {},
   "outputs": [],
   "source": []
  },
  {
   "cell_type": "code",
   "execution_count": null,
   "metadata": {},
   "outputs": [],
   "source": []
  },
  {
   "cell_type": "code",
   "execution_count": 21,
   "metadata": {},
   "outputs": [
    {
     "data": {
      "text/html": [
       "<div>\n",
       "<style scoped>\n",
       "    .dataframe tbody tr th:only-of-type {\n",
       "        vertical-align: middle;\n",
       "    }\n",
       "\n",
       "    .dataframe tbody tr th {\n",
       "        vertical-align: top;\n",
       "    }\n",
       "\n",
       "    .dataframe thead th {\n",
       "        text-align: right;\n",
       "    }\n",
       "</style>\n",
       "<table border=\"1\" class=\"dataframe\">\n",
       "  <thead>\n",
       "    <tr style=\"text-align: right;\">\n",
       "      <th></th>\n",
       "      <th>subsystem</th>\n",
       "      <th>p(gender)</th>\n",
       "      <th>p(genotype)</th>\n",
       "      <th>p(diet)</th>\n",
       "      <th>p(gender,genotype)</th>\n",
       "      <th>p(gender,diet)</th>\n",
       "      <th>p(genotype,diet)</th>\n",
       "      <th>p(gender,genotype,diet)</th>\n",
       "    </tr>\n",
       "  </thead>\n",
       "  <tbody>\n",
       "  </tbody>\n",
       "</table>\n",
       "</div>"
      ],
      "text/plain": [
       "Empty DataFrame\n",
       "Columns: [subsystem, p(gender), p(genotype), p(diet), p(gender,genotype), p(gender,diet), p(genotype,diet), p(gender,genotype,diet)]\n",
       "Index: []"
      ]
     },
     "execution_count": 21,
     "metadata": {},
     "output_type": "execute_result"
    }
   ],
   "source": [
    "df_enrich[(df_enrich[df_enrich.columns[1:]]<0.05).any(axis=1)]"
   ]
  },
  {
   "cell_type": "code",
   "execution_count": 22,
   "metadata": {},
   "outputs": [
    {
     "data": {
      "text/html": [
       "<div>\n",
       "<style scoped>\n",
       "    .dataframe tbody tr th:only-of-type {\n",
       "        vertical-align: middle;\n",
       "    }\n",
       "\n",
       "    .dataframe tbody tr th {\n",
       "        vertical-align: top;\n",
       "    }\n",
       "\n",
       "    .dataframe thead th {\n",
       "        text-align: right;\n",
       "    }\n",
       "</style>\n",
       "<table border=\"1\" class=\"dataframe\">\n",
       "  <thead>\n",
       "    <tr style=\"text-align: right;\">\n",
       "      <th></th>\n",
       "      <th>subsystem</th>\n",
       "      <th>q(gender)</th>\n",
       "      <th>q(genotype)</th>\n",
       "      <th>q(diet)</th>\n",
       "      <th>q(gender,genotype)</th>\n",
       "      <th>q(gender,diet)</th>\n",
       "      <th>q(genotype,diet)</th>\n",
       "      <th>q(gender,genotype,diet)</th>\n",
       "    </tr>\n",
       "  </thead>\n",
       "  <tbody>\n",
       "  </tbody>\n",
       "</table>\n",
       "</div>"
      ],
      "text/plain": [
       "Empty DataFrame\n",
       "Columns: [subsystem, q(gender), q(genotype), q(diet), q(gender,genotype), q(gender,diet), q(genotype,diet), q(gender,genotype,diet)]\n",
       "Index: []"
      ]
     },
     "execution_count": 22,
     "metadata": {},
     "output_type": "execute_result"
    }
   ],
   "source": [
    "df_enrich_q[(df_enrich_q[df_enrich_q.columns[1:]]<0.05).any(axis=1)]"
   ]
  }
 ],
 "metadata": {
  "kernelspec": {
   "display_name": "Python 3.7.3 64-bit ('base': conda)",
   "language": "python",
   "name": "python37364bitbasecondacd385dda59854559b44e3f82ede14f15"
  },
  "language_info": {
   "codemirror_mode": {
    "name": "ipython",
    "version": 3
   },
   "file_extension": ".py",
   "mimetype": "text/x-python",
   "name": "python",
   "nbconvert_exporter": "python",
   "pygments_lexer": "ipython3",
   "version": "3.7.3"
  }
 },
 "nbformat": 4,
 "nbformat_minor": 2
}
