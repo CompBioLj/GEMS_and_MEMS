{
 "cells": [
  {
   "cell_type": "markdown",
   "metadata": {},
   "source": [
    "# Enrichment test\n",
    "What is the probability to randomly select at least k \"changed\" reactions out of n \"changed\" reactions when selecting N out of M reactions.   \n",
    "* k: number of diferentially expressed reactions in a subsystem,\n",
    "* n: number of diferentially expressed reactions in the model,\n",
    "* N: number of reactions in a subsystem,\n",
    "* M: number of reactions in the model.\n",
    "\n",
    "$P(x \\geq k) = 1 - hypergeom.cdf(k-1, M, n, N)$\n"
   ]
  },
  {
   "cell_type": "code",
   "execution_count": 1,
   "metadata": {},
   "outputs": [],
   "source": [
    "import numpy as np\n",
    "import pandas as pd\n",
    "import matplotlib.pyplot as plt\n",
    "\n",
    "from sklearn.decomposition import PCA\n",
    "from itertools import permutations, product, combinations\n",
    "from scipy.stats import pearsonr, spearmanr, mannwhitneyu, hypergeom\n",
    "\n",
    "from itertools import permutations\n",
    "from itertools import combinations"
   ]
  },
  {
   "cell_type": "code",
   "execution_count": 2,
   "metadata": {},
   "outputs": [],
   "source": [
    "#https://www.scribbr.com/statistics/two-way-anova/\n",
    "import statsmodels.api as sm\n",
    "from statsmodels.formula.api import ols\n",
    "import statsmodels.stats.multitest as multi"
   ]
  },
  {
   "cell_type": "code",
   "execution_count": 3,
   "metadata": {},
   "outputs": [],
   "source": [
    "import warnings\n",
    "from statsmodels.tools.sm_exceptions import ConvergenceWarning, HessianInversionWarning, ValueWarning\n",
    "# ignore these warning\n",
    "warnings.filterwarnings(\"ignore\", category=ConvergenceWarning)\n",
    "warnings.filterwarnings(\"ignore\", category=HessianInversionWarning)\n",
    "warnings.filterwarnings(\"ignore\", category=ValueWarning)\n",
    "warnings.filterwarnings(\"ignore\", category=RuntimeWarning)"
   ]
  },
  {
   "cell_type": "markdown",
   "metadata": {},
   "source": [
    "## Settings"
   ]
  },
  {
   "cell_type": "code",
   "execution_count": 19,
   "metadata": {},
   "outputs": [],
   "source": [
    "analysis = \"Fastcore\"\n",
    "#analysis = \"iMAT\"\n",
    "\n",
    "#analysis = \"gimme\"\n",
    "#analysis = \"init\"\n",
    "#analysis = \"tinit\""
   ]
  },
  {
   "cell_type": "code",
   "execution_count": 20,
   "metadata": {},
   "outputs": [],
   "source": [
    "analysis_type = \"FVA\"\n",
    "#analysis_type = \"pFBA\""
   ]
  },
  {
   "cell_type": "code",
   "execution_count": 21,
   "metadata": {},
   "outputs": [],
   "source": [
    "fdr = True"
   ]
  },
  {
   "cell_type": "markdown",
   "metadata": {},
   "source": [
    "## Read the data"
   ]
  },
  {
   "cell_type": "code",
   "execution_count": 22,
   "metadata": {},
   "outputs": [],
   "source": [
    "reactions =  pd.read_csv(\"data\\\\\" + analysis_type + \"_\" + analysis + \".csv\", sep=\";\").iloc[:,0]"
   ]
  },
  {
   "cell_type": "code",
   "execution_count": 23,
   "metadata": {},
   "outputs": [],
   "source": [
    "if fdr:\n",
    "    df_genotype = pd.read_csv(\"results_pairs\\\\\" + analysis_type + \"_\"+ analysis + \"_genotype_compare_q.csv\")\n",
    "    df_gender = pd.read_csv(\"results_pairs\\\\\" + analysis_type + \"_\"+ analysis + \"_gender_compare_q.csv\")\n",
    "    df_diet = pd.read_csv(\"results_pairs\\\\\" + analysis_type + \"_\"+ analysis + \"_diet_compare_q.csv\")\n",
    "else:\n",
    "    df_genotype = pd.read_csv(\"results_pairs\\\\\" + analysis_type + \"_\" + analysis + \"_genotype_compare.csv\")\n",
    "    df_gender = pd.read_csv(\"results_pairs\\\\\" + analysis_type + \"_\" + analysis + \"_gender_compare.csv\")\n",
    "    df_diet = pd.read_csv(\"results_pairs\\\\\" + analysis_type + \"_\" + analysis + \"_diet_compare.csv\")"
   ]
  },
  {
   "cell_type": "code",
   "execution_count": 24,
   "metadata": {},
   "outputs": [],
   "source": [
    "tests_genotype = list(df_genotype.columns[1:])\n",
    "tests_gender = list(df_gender.columns[1:])\n",
    "tests_diet = list(df_diet.columns[1:])"
   ]
  },
  {
   "cell_type": "markdown",
   "metadata": {},
   "source": [
    "### Fill the analysis data with all the reactions\n",
    "As a basis I take the union of the reactions included in the selected group of models."
   ]
  },
  {
   "cell_type": "code",
   "execution_count": 25,
   "metadata": {},
   "outputs": [],
   "source": [
    "df_reactions = pd.DataFrame(columns=[\"rxn\"])\n",
    "df_reactions[\"rxn\"] = reactions\n",
    "\n",
    "df_genotype = pd.merge(df_genotype, df_reactions, how=\"outer\").fillna(1)\n",
    "df_gender = pd.merge(df_gender, df_reactions, how=\"outer\").fillna(1)\n",
    "df_diet = pd.merge(df_diet, df_reactions, how=\"outer\").fillna(1)"
   ]
  },
  {
   "cell_type": "markdown",
   "metadata": {},
   "source": [
    "### Get the subsystems data"
   ]
  },
  {
   "cell_type": "code",
   "execution_count": 26,
   "metadata": {},
   "outputs": [
    {
     "data": {
      "text/html": [
       "<div>\n",
       "<style scoped>\n",
       "    .dataframe tbody tr th:only-of-type {\n",
       "        vertical-align: middle;\n",
       "    }\n",
       "\n",
       "    .dataframe tbody tr th {\n",
       "        vertical-align: top;\n",
       "    }\n",
       "\n",
       "    .dataframe thead th {\n",
       "        text-align: right;\n",
       "    }\n",
       "</style>\n",
       "<table border=\"1\" class=\"dataframe\">\n",
       "  <thead>\n",
       "    <tr style=\"text-align: right;\">\n",
       "      <th></th>\n",
       "      <th>rxn</th>\n",
       "      <th>subsystem</th>\n",
       "    </tr>\n",
       "  </thead>\n",
       "  <tbody>\n",
       "    <tr>\n",
       "      <th>0</th>\n",
       "      <td>10FTHF5GLUtl</td>\n",
       "      <td>Transport, lysosomal</td>\n",
       "    </tr>\n",
       "    <tr>\n",
       "      <th>1</th>\n",
       "      <td>10FTHF5GLUtm</td>\n",
       "      <td>Transport, mitochondrial</td>\n",
       "    </tr>\n",
       "    <tr>\n",
       "      <th>2</th>\n",
       "      <td>10FTHF6GLUtl</td>\n",
       "      <td>Transport, lysosomal</td>\n",
       "    </tr>\n",
       "    <tr>\n",
       "      <th>3</th>\n",
       "      <td>10FTHF6GLUtm</td>\n",
       "      <td>Transport, mitochondrial</td>\n",
       "    </tr>\n",
       "    <tr>\n",
       "      <th>4</th>\n",
       "      <td>10FTHF7GLUtl</td>\n",
       "      <td>Transport, lysosomal</td>\n",
       "    </tr>\n",
       "  </tbody>\n",
       "</table>\n",
       "</div>"
      ],
      "text/plain": [
       "            rxn                 subsystem\n",
       "0  10FTHF5GLUtl      Transport, lysosomal\n",
       "1  10FTHF5GLUtm  Transport, mitochondrial\n",
       "2  10FTHF6GLUtl      Transport, lysosomal\n",
       "3  10FTHF6GLUtm  Transport, mitochondrial\n",
       "4  10FTHF7GLUtl      Transport, lysosomal"
      ]
     },
     "execution_count": 26,
     "metadata": {},
     "output_type": "execute_result"
    }
   ],
   "source": [
    "df_subsystems = pd.read_csv(\"models\\\\iMM865_subsystems.txt\", sep=\";\")\n",
    "df_subsystems_f = df_subsystems.copy()\n",
    "df_subsystems_f['rxn'] = df_subsystems_f['rxn']+'_f'\n",
    "df_subsystems_b = df_subsystems.copy()\n",
    "df_subsystems_b['rxn'] = df_subsystems_b['rxn']+'_b'\n",
    "\n",
    "df_subsystems = pd.concat((df_subsystems, df_subsystems_b, df_subsystems_f), ignore_index=True).reindex()\n",
    "\n",
    "df_subsystems.head()"
   ]
  },
  {
   "cell_type": "markdown",
   "metadata": {},
   "source": [
    "Keep only the reactions that are present in the observed models"
   ]
  },
  {
   "cell_type": "code",
   "execution_count": 27,
   "metadata": {},
   "outputs": [],
   "source": [
    "df_subsystems = df_subsystems[df_subsystems.rxn.isin(reactions)]"
   ]
  },
  {
   "cell_type": "code",
   "execution_count": 28,
   "metadata": {},
   "outputs": [],
   "source": [
    "subsystems = df_subsystems.subsystem.dropna().unique()"
   ]
  },
  {
   "cell_type": "markdown",
   "metadata": {},
   "source": [
    "### Merge"
   ]
  },
  {
   "cell_type": "code",
   "execution_count": 29,
   "metadata": {},
   "outputs": [],
   "source": [
    "df_genotype = pd.merge(df_genotype, df_subsystems, how=\"left\")\n",
    "df_gender = pd.merge(df_gender, df_subsystems, how=\"left\")\n",
    "df_diet = pd.merge(df_diet, df_subsystems, how=\"left\")"
   ]
  },
  {
   "cell_type": "code",
   "execution_count": 30,
   "metadata": {},
   "outputs": [],
   "source": [
    "df_genotype = df_genotype[['rxn', 'subsystem'] + tests_genotype]\n",
    "df_gender = df_gender[['rxn', 'subsystem'] + tests_gender]\n",
    "df_diet = df_diet[['rxn', 'subsystem'] + tests_diet]"
   ]
  },
  {
   "cell_type": "markdown",
   "metadata": {},
   "source": [
    "## Analysis"
   ]
  },
  {
   "cell_type": "code",
   "execution_count": 31,
   "metadata": {},
   "outputs": [
    {
     "ename": "KeyboardInterrupt",
     "evalue": "",
     "output_type": "error",
     "traceback": [
      "\u001b[1;31m---------------------------------------------------------------------------\u001b[0m",
      "\u001b[1;31mKeyboardInterrupt\u001b[0m                         Traceback (most recent call last)",
      "\u001b[1;32m<ipython-input-31-8e760e336532>\u001b[0m in \u001b[0;36m<module>\u001b[1;34m\u001b[0m\n\u001b[0;32m     11\u001b[0m     \u001b[0mn_signif_all\u001b[0m \u001b[1;33m=\u001b[0m \u001b[1;33m(\u001b[0m\u001b[0mdf_test\u001b[0m\u001b[1;33m[\u001b[0m\u001b[0mtest\u001b[0m\u001b[1;33m]\u001b[0m \u001b[1;33m<\u001b[0m \u001b[1;36m0.05\u001b[0m\u001b[1;33m)\u001b[0m\u001b[1;33m.\u001b[0m\u001b[0msum\u001b[0m\u001b[1;33m(\u001b[0m\u001b[1;33m)\u001b[0m\u001b[1;33m\u001b[0m\u001b[1;33m\u001b[0m\u001b[0m\n\u001b[0;32m     12\u001b[0m     \u001b[1;32mfor\u001b[0m \u001b[0msubsystem\u001b[0m \u001b[1;32min\u001b[0m \u001b[0msubsystems\u001b[0m\u001b[1;33m:\u001b[0m\u001b[1;33m\u001b[0m\u001b[1;33m\u001b[0m\u001b[0m\n\u001b[1;32m---> 13\u001b[1;33m         \u001b[0mdf_sub\u001b[0m \u001b[1;33m=\u001b[0m \u001b[0mdf_test\u001b[0m\u001b[1;33m[\u001b[0m\u001b[0mdf_test\u001b[0m\u001b[1;33m.\u001b[0m\u001b[0msubsystem\u001b[0m \u001b[1;33m==\u001b[0m \u001b[0msubsystem\u001b[0m\u001b[1;33m]\u001b[0m\u001b[1;33m\u001b[0m\u001b[1;33m\u001b[0m\u001b[0m\n\u001b[0m\u001b[0;32m     14\u001b[0m         \u001b[0mn_sub\u001b[0m \u001b[1;33m=\u001b[0m \u001b[0mlen\u001b[0m\u001b[1;33m(\u001b[0m\u001b[0mdf_sub\u001b[0m\u001b[1;33m)\u001b[0m\u001b[1;33m\u001b[0m\u001b[1;33m\u001b[0m\u001b[0m\n\u001b[0;32m     15\u001b[0m         \u001b[0mn_signif_sub\u001b[0m \u001b[1;33m=\u001b[0m \u001b[1;33m(\u001b[0m\u001b[0mdf_sub\u001b[0m\u001b[1;33m[\u001b[0m\u001b[0mtest\u001b[0m\u001b[1;33m]\u001b[0m \u001b[1;33m<\u001b[0m \u001b[1;36m0.05\u001b[0m\u001b[1;33m)\u001b[0m\u001b[1;33m.\u001b[0m\u001b[0msum\u001b[0m\u001b[1;33m(\u001b[0m\u001b[1;33m)\u001b[0m\u001b[1;33m\u001b[0m\u001b[1;33m\u001b[0m\u001b[0m\n",
      "\u001b[1;32mC:\\ProgramData\\Anaconda3\\lib\\site-packages\\pandas\\core\\frame.py\u001b[0m in \u001b[0;36m__getitem__\u001b[1;34m(self, key)\u001b[0m\n\u001b[0;32m   2916\u001b[0m         \u001b[1;31m# Do we have a (boolean) 1d indexer?\u001b[0m\u001b[1;33m\u001b[0m\u001b[1;33m\u001b[0m\u001b[1;33m\u001b[0m\u001b[0m\n\u001b[0;32m   2917\u001b[0m         \u001b[1;32mif\u001b[0m \u001b[0mcom\u001b[0m\u001b[1;33m.\u001b[0m\u001b[0mis_bool_indexer\u001b[0m\u001b[1;33m(\u001b[0m\u001b[0mkey\u001b[0m\u001b[1;33m)\u001b[0m\u001b[1;33m:\u001b[0m\u001b[1;33m\u001b[0m\u001b[1;33m\u001b[0m\u001b[0m\n\u001b[1;32m-> 2918\u001b[1;33m             \u001b[1;32mreturn\u001b[0m \u001b[0mself\u001b[0m\u001b[1;33m.\u001b[0m\u001b[0m_getitem_bool_array\u001b[0m\u001b[1;33m(\u001b[0m\u001b[0mkey\u001b[0m\u001b[1;33m)\u001b[0m\u001b[1;33m\u001b[0m\u001b[1;33m\u001b[0m\u001b[0m\n\u001b[0m\u001b[0;32m   2919\u001b[0m \u001b[1;33m\u001b[0m\u001b[0m\n\u001b[0;32m   2920\u001b[0m         \u001b[1;31m# We are left with two options: a single key, and a collection of keys,\u001b[0m\u001b[1;33m\u001b[0m\u001b[1;33m\u001b[0m\u001b[1;33m\u001b[0m\u001b[0m\n",
      "\u001b[1;32mC:\\ProgramData\\Anaconda3\\lib\\site-packages\\pandas\\core\\frame.py\u001b[0m in \u001b[0;36m_getitem_bool_array\u001b[1;34m(self, key)\u001b[0m\n\u001b[0;32m   2966\u001b[0m         \u001b[1;31m# be reindexed to match DataFrame rows\u001b[0m\u001b[1;33m\u001b[0m\u001b[1;33m\u001b[0m\u001b[1;33m\u001b[0m\u001b[0m\n\u001b[0;32m   2967\u001b[0m         \u001b[0mkey\u001b[0m \u001b[1;33m=\u001b[0m \u001b[0mcheck_bool_indexer\u001b[0m\u001b[1;33m(\u001b[0m\u001b[0mself\u001b[0m\u001b[1;33m.\u001b[0m\u001b[0mindex\u001b[0m\u001b[1;33m,\u001b[0m \u001b[0mkey\u001b[0m\u001b[1;33m)\u001b[0m\u001b[1;33m\u001b[0m\u001b[1;33m\u001b[0m\u001b[0m\n\u001b[1;32m-> 2968\u001b[1;33m         \u001b[0mindexer\u001b[0m \u001b[1;33m=\u001b[0m \u001b[0mkey\u001b[0m\u001b[1;33m.\u001b[0m\u001b[0mnonzero\u001b[0m\u001b[1;33m(\u001b[0m\u001b[1;33m)\u001b[0m\u001b[1;33m[\u001b[0m\u001b[1;36m0\u001b[0m\u001b[1;33m]\u001b[0m\u001b[1;33m\u001b[0m\u001b[1;33m\u001b[0m\u001b[0m\n\u001b[0m\u001b[0;32m   2969\u001b[0m         \u001b[1;32mreturn\u001b[0m \u001b[0mself\u001b[0m\u001b[1;33m.\u001b[0m\u001b[0m_take\u001b[0m\u001b[1;33m(\u001b[0m\u001b[0mindexer\u001b[0m\u001b[1;33m,\u001b[0m \u001b[0maxis\u001b[0m\u001b[1;33m=\u001b[0m\u001b[1;36m0\u001b[0m\u001b[1;33m)\u001b[0m\u001b[1;33m\u001b[0m\u001b[1;33m\u001b[0m\u001b[0m\n\u001b[0;32m   2970\u001b[0m \u001b[1;33m\u001b[0m\u001b[0m\n",
      "\u001b[1;31mKeyboardInterrupt\u001b[0m: "
     ]
    }
   ],
   "source": [
    "\"\"\"\n",
    "GENOTYPE\n",
    "\"\"\"\n",
    "df_genotype_enrich = pd.DataFrame(columns = ['subsystem'] + tests_genotype)\n",
    "df_genotype_enrich['subsystem'] = subsystems\n",
    "\n",
    "n_all = len(reactions)\n",
    "\n",
    "for test in tests_genotype:\n",
    "    df_test = df_genotype[[test,'subsystem']]\n",
    "    n_signif_all = (df_test[test] < 0.05).sum()         \n",
    "    for subsystem in subsystems:\n",
    "        df_sub = df_test[df_test.subsystem == subsystem]\n",
    "        n_sub = len(df_sub)\n",
    "        n_signif_sub = (df_sub[test] < 0.05).sum()\n",
    "        \n",
    "        M = n_all # all reactions in a model\n",
    "        n = n_signif_all # all significant \n",
    "        N = n_sub # reactions in a subsystem\n",
    "        k = n_signif_sub # significant in a subsystem\n",
    "        \n",
    "        if n:         \n",
    "            p = 1 - hypergeom.cdf(k-1, M, n, N)                \n",
    "        else:\n",
    "            p = 1.0\n",
    "            \n",
    "        df_genotype_enrich.loc[(df_genotype_enrich['subsystem'] == subsystem), test] = p\n",
    "        \n",
    "        #print(k, M, n, N)     "
   ]
  },
  {
   "cell_type": "code",
   "execution_count": null,
   "metadata": {},
   "outputs": [],
   "source": [
    "\"\"\"\n",
    "GENDER\n",
    "\"\"\"\n",
    "df_gender_enrich = pd.DataFrame(columns = ['subsystem'] + tests_gender)\n",
    "df_gender_enrich['subsystem'] = subsystems\n",
    "\n",
    "n_all = len(reactions)\n",
    "\n",
    "for test in tests_gender:\n",
    "    df_test = df_gender[[test,'subsystem']]\n",
    "    n_signif_all = (df_test[test] < 0.05).sum()         \n",
    "    for subsystem in subsystems:\n",
    "        df_sub = df_test[df_test.subsystem == subsystem]\n",
    "        n_sub = len(df_sub)\n",
    "        n_signif_sub = (df_sub[test] < 0.05).sum()\n",
    "        \n",
    "        M = n_all # all reactions in a model\n",
    "        n = n_signif_all # all significant \n",
    "        N = n_sub # reactions in a subsystem\n",
    "        k = n_signif_sub # significant in a subsystem\n",
    "        \n",
    "        if n:         \n",
    "            p = 1 - hypergeom.cdf(k-1, M, n, N)                \n",
    "        else:\n",
    "            p = 1.0\n",
    "            \n",
    "        df_gender_enrich.loc[(df_gender_enrich['subsystem'] == subsystem), test] = p\n",
    "        \n",
    "        #print(k, M, n, N)     "
   ]
  },
  {
   "cell_type": "code",
   "execution_count": 32,
   "metadata": {
    "scrolled": false
   },
   "outputs": [
    {
     "name": "stdout",
     "output_type": "stream",
     "text": [
      "(HFnC:HFC)\n",
      "k, M, n, N: 73 6781 140 241\n",
      "p 0.0\n",
      "(HFnC<HFC)\n",
      "k, M, n, N: 4 6781 8 241\n",
      "p 9.73414704429354e-05\n",
      "(HFnC>HFC)\n",
      "k, M, n, N: 63 6781 87 241\n",
      "p 4.728439861878542e-13\n"
     ]
    }
   ],
   "source": [
    "\"\"\"\n",
    "DIET\n",
    "\"\"\"\n",
    "df_diet_enrich = pd.DataFrame(columns = ['subsystem'] + tests_diet)\n",
    "df_diet_enrich['subsystem'] = subsystems\n",
    "\n",
    "n_all = len(reactions)\n",
    "\n",
    "\n",
    "for test in tests_diet:\n",
    "    df_test = df_diet[[test,'subsystem']]\n",
    "    n_signif_all = (df_test[test] < 0.05).sum()         \n",
    "    \n",
    "    \n",
    "    for subsystem in subsystems:\n",
    "        df_sub = df_test[df_test.subsystem == subsystem]\n",
    "        n_sub = len(df_sub)\n",
    "        n_signif_sub = (df_sub[test] < 0.05).sum()\n",
    "                \n",
    "        \n",
    "        k = n_signif_sub # significant in a subsystem\n",
    "        M = n_all # all reactions in a model\n",
    "        n = n_signif_all # all significant \n",
    "        N = n_sub # reactions in a subsystem\n",
    "        \n",
    "        \n",
    "        if n:         \n",
    "            p = 1 - hypergeom.cdf(k-1, M, n, N)                \n",
    "        else:\n",
    "            p = 1.0\n",
    "\n",
    "        df_diet_enrich.loc[(df_diet_enrich['subsystem'] == subsystem), test] = p\n",
    "        \n",
    "        if subsystem.startswith(\"Chole\") and test.startswith(\"(HFnC\"):\n",
    "            print(test)\n",
    "            print(\"k, M, n, N:\", k, M, n, N)   \n",
    "            print(\"p\",p)\n",
    "        "
   ]
  },
  {
   "cell_type": "code",
   "execution_count": 19,
   "metadata": {},
   "outputs": [
    {
     "data": {
      "text/plain": [
       "1.0"
      ]
     },
     "execution_count": 19,
     "metadata": {},
     "output_type": "execute_result"
    }
   ],
   "source": [
    "# at least 0 reactions are changed\n",
    "1 - hypergeom.cdf(-1, 6781, 110, 10)"
   ]
  },
  {
   "cell_type": "code",
   "execution_count": 29,
   "metadata": {},
   "outputs": [
    {
     "data": {
      "text/plain": [
       "0.00045877694824025816"
      ]
     },
     "execution_count": 29,
     "metadata": {},
     "output_type": "execute_result"
    }
   ],
   "source": [
    "1 - hypergeom.cdf(2, 6781, 110, 10)"
   ]
  },
  {
   "cell_type": "code",
   "execution_count": null,
   "metadata": {},
   "outputs": [],
   "source": []
  },
  {
   "cell_type": "markdown",
   "metadata": {},
   "source": [
    "## Save the results"
   ]
  },
  {
   "cell_type": "code",
   "execution_count": 20,
   "metadata": {},
   "outputs": [],
   "source": [
    "df_genotype_enrich.to_csv(\"results_enrich\\\\\" + analysis_type + \"_\" + analysis + \"_pairs_genotype_enrich.csv\", index=False)\n",
    "df_gender_enrich.to_csv(\"results_enrich\\\\\" + analysis_type + \"_\" + analysis + \"_pairs_gender_enrich.csv\", index=False)\n",
    "df_diet_enrich.to_csv(\"results_enrich\\\\\" + analysis_type + \"_\" + analysis + \"_pairs_diet_enrich.csv\", index=False)"
   ]
  },
  {
   "cell_type": "code",
   "execution_count": 21,
   "metadata": {},
   "outputs": [],
   "source": [
    "df_genotype_enrich_q = df_genotype_enrich.copy()\n",
    "df_gender_enrich_q = df_gender_enrich.copy()\n",
    "df_diet_enrich_q = df_diet_enrich.copy()\n",
    "\n",
    "for c in df_genotype_enrich_q.columns[1:]:    \n",
    "    df_genotype_enrich_q[c] = multi.multipletests(df_genotype_enrich_q[c], method = 'fdr_bh')[1]\n",
    "for c in df_gender_enrich_q.columns[1:]:\n",
    "    df_gender_enrich_q[c] = multi.multipletests(df_gender_enrich_q[c], method = 'fdr_bh')[1]\n",
    "for c in df_diet_enrich_q.columns[1:]:\n",
    "    df_diet_enrich_q[c] = multi.multipletests(df_diet_enrich_q[c], method = 'fdr_bh')[1]"
   ]
  },
  {
   "cell_type": "code",
   "execution_count": 22,
   "metadata": {},
   "outputs": [],
   "source": [
    "df_genotype_enrich_q.to_csv(\"results_enrich\\\\\" + analysis_type + \"_\" + analysis + \"_pairs_genotype_enrich_q.csv\", index=False)\n",
    "df_gender_enrich_q.to_csv(\"results_enrich\\\\\" + analysis_type + \"_\" + analysis + \"_pairs_gender_enrich_q.csv\", index=False)\n",
    "df_diet_enrich_q.to_csv(\"results_enrich\\\\\" + analysis_type + \"_\" + analysis + \"_pairs_diet_enrich_q.csv\", index=False)"
   ]
  },
  {
   "cell_type": "code",
   "execution_count": 23,
   "metadata": {},
   "outputs": [
    {
     "data": {
      "text/html": [
       "<div>\n",
       "<style scoped>\n",
       "    .dataframe tbody tr th:only-of-type {\n",
       "        vertical-align: middle;\n",
       "    }\n",
       "\n",
       "    .dataframe tbody tr th {\n",
       "        vertical-align: top;\n",
       "    }\n",
       "\n",
       "    .dataframe thead th {\n",
       "        text-align: right;\n",
       "    }\n",
       "</style>\n",
       "<table border=\"1\" class=\"dataframe\">\n",
       "  <thead>\n",
       "    <tr style=\"text-align: right;\">\n",
       "      <th></th>\n",
       "      <th>subsystem</th>\n",
       "      <th>M_WT_(HFnC&gt;HFC)</th>\n",
       "      <th>M_WT_(HFnC&lt;HFC)</th>\n",
       "      <th>M_WT_(HFnC:HFC)</th>\n",
       "    </tr>\n",
       "  </thead>\n",
       "  <tbody>\n",
       "  </tbody>\n",
       "</table>\n",
       "</div>"
      ],
      "text/plain": [
       "Empty DataFrame\n",
       "Columns: [subsystem, M_WT_(HFnC>HFC), M_WT_(HFnC<HFC), M_WT_(HFnC:HFC)]\n",
       "Index: []"
      ]
     },
     "execution_count": 23,
     "metadata": {},
     "output_type": "execute_result"
    }
   ],
   "source": [
    "df_diet_enrich_q.loc[df_diet_enrich_q.subsystem.str.startswith(\"Sq\"), [\"subsystem\",\"M_WT_(HFnC>HFC)\", \"M_WT_(HFnC<HFC)\", \"M_WT_(HFnC:HFC)\"]]\n"
   ]
  },
  {
   "cell_type": "code",
   "execution_count": null,
   "metadata": {},
   "outputs": [],
   "source": []
  },
  {
   "cell_type": "code",
   "execution_count": 24,
   "metadata": {},
   "outputs": [
    {
     "data": {
      "text/html": [
       "<div>\n",
       "<style scoped>\n",
       "    .dataframe tbody tr th:only-of-type {\n",
       "        vertical-align: middle;\n",
       "    }\n",
       "\n",
       "    .dataframe tbody tr th {\n",
       "        vertical-align: top;\n",
       "    }\n",
       "\n",
       "    .dataframe thead th {\n",
       "        text-align: right;\n",
       "    }\n",
       "</style>\n",
       "<table border=\"1\" class=\"dataframe\">\n",
       "  <thead>\n",
       "    <tr style=\"text-align: right;\">\n",
       "      <th></th>\n",
       "      <th>subsystem</th>\n",
       "      <th>F_LFnC_(WT:KO)</th>\n",
       "      <th>F_LFnC_(WT&lt;KO)</th>\n",
       "      <th>F_LFnC_(WT&gt;KO)</th>\n",
       "      <th>F_HFnC_(WT:KO)</th>\n",
       "      <th>F_HFnC_(WT&lt;KO)</th>\n",
       "      <th>F_HFnC_(WT&gt;KO)</th>\n",
       "      <th>F_HFC_(WT:KO)</th>\n",
       "      <th>F_HFC_(WT&lt;KO)</th>\n",
       "      <th>F_HFC_(WT&gt;KO)</th>\n",
       "      <th>...</th>\n",
       "      <th>LFnC_(WT&gt;KO)</th>\n",
       "      <th>HFnC_(WT:KO)</th>\n",
       "      <th>HFnC_(WT&lt;KO)</th>\n",
       "      <th>HFnC_(WT&gt;KO)</th>\n",
       "      <th>HFC_(WT:KO)</th>\n",
       "      <th>HFC_(WT&lt;KO)</th>\n",
       "      <th>HFC_(WT&gt;KO)</th>\n",
       "      <th>(WT:KO)</th>\n",
       "      <th>(WT&lt;KO)</th>\n",
       "      <th>(WT&gt;KO)</th>\n",
       "    </tr>\n",
       "  </thead>\n",
       "  <tbody>\n",
       "  </tbody>\n",
       "</table>\n",
       "<p>0 rows × 37 columns</p>\n",
       "</div>"
      ],
      "text/plain": [
       "Empty DataFrame\n",
       "Columns: [subsystem, F_LFnC_(WT:KO), F_LFnC_(WT<KO), F_LFnC_(WT>KO), F_HFnC_(WT:KO), F_HFnC_(WT<KO), F_HFnC_(WT>KO), F_HFC_(WT:KO), F_HFC_(WT<KO), F_HFC_(WT>KO), F_(WT:KO), F_(WT<KO), F_(WT>KO), M_LFnC_(WT:KO), M_LFnC_(WT<KO), M_LFnC_(WT>KO), M_HFnC_(WT:KO), M_HFnC_(WT<KO), M_HFnC_(WT>KO), M_HFC_(WT:KO), M_HFC_(WT<KO), M_HFC_(WT>KO), M_(WT:KO), M_(WT<KO), M_(WT>KO), LFnC_(WT:KO), LFnC_(WT<KO), LFnC_(WT>KO), HFnC_(WT:KO), HFnC_(WT<KO), HFnC_(WT>KO), HFC_(WT:KO), HFC_(WT<KO), HFC_(WT>KO), (WT:KO), (WT<KO), (WT>KO)]\n",
       "Index: []\n",
       "\n",
       "[0 rows x 37 columns]"
      ]
     },
     "execution_count": 24,
     "metadata": {},
     "output_type": "execute_result"
    }
   ],
   "source": [
    "df_genotype_enrich_q[(df_genotype_enrich_q[df_genotype_enrich_q.columns[1:]] < 0.05).any(axis=1)]"
   ]
  },
  {
   "cell_type": "code",
   "execution_count": 25,
   "metadata": {},
   "outputs": [
    {
     "data": {
      "text/html": [
       "<div>\n",
       "<style scoped>\n",
       "    .dataframe tbody tr th:only-of-type {\n",
       "        vertical-align: middle;\n",
       "    }\n",
       "\n",
       "    .dataframe tbody tr th {\n",
       "        vertical-align: top;\n",
       "    }\n",
       "\n",
       "    .dataframe thead th {\n",
       "        text-align: right;\n",
       "    }\n",
       "</style>\n",
       "<table border=\"1\" class=\"dataframe\">\n",
       "  <thead>\n",
       "    <tr style=\"text-align: right;\">\n",
       "      <th></th>\n",
       "      <th>subsystem</th>\n",
       "      <th>WT_LFnC_(F:M)</th>\n",
       "      <th>WT_LFnC_(F&lt;M)</th>\n",
       "      <th>WT_LFnC_(F&gt;M)</th>\n",
       "      <th>WT_HFnC_(F:M)</th>\n",
       "      <th>WT_HFnC_(F&lt;M)</th>\n",
       "      <th>WT_HFnC_(F&gt;M)</th>\n",
       "      <th>WT_HFC_(F:M)</th>\n",
       "      <th>WT_HFC_(F&lt;M)</th>\n",
       "      <th>WT_HFC_(F&gt;M)</th>\n",
       "      <th>...</th>\n",
       "      <th>LFnC_(F&gt;M)</th>\n",
       "      <th>HFnC_(F:M)</th>\n",
       "      <th>HFnC_(F&lt;M)</th>\n",
       "      <th>HFnC_(F&gt;M)</th>\n",
       "      <th>HFC_(F:M)</th>\n",
       "      <th>HFC_(F&lt;M)</th>\n",
       "      <th>HFC_(F&gt;M)</th>\n",
       "      <th>(F:M)</th>\n",
       "      <th>(F&lt;M)</th>\n",
       "      <th>(F&gt;M)</th>\n",
       "    </tr>\n",
       "  </thead>\n",
       "  <tbody>\n",
       "    <tr>\n",
       "      <th>23</th>\n",
       "      <td>Tyrosine metabolism</td>\n",
       "      <td>1</td>\n",
       "      <td>0.00102963</td>\n",
       "      <td>1</td>\n",
       "      <td>1</td>\n",
       "      <td>1</td>\n",
       "      <td>1</td>\n",
       "      <td>1</td>\n",
       "      <td>1</td>\n",
       "      <td>1</td>\n",
       "      <td>...</td>\n",
       "      <td>1</td>\n",
       "      <td>1</td>\n",
       "      <td>1</td>\n",
       "      <td>1</td>\n",
       "      <td>1</td>\n",
       "      <td>1</td>\n",
       "      <td>1</td>\n",
       "      <td>1</td>\n",
       "      <td>1</td>\n",
       "      <td>1</td>\n",
       "    </tr>\n",
       "    <tr>\n",
       "      <th>45</th>\n",
       "      <td>Sphingolipid metabolism</td>\n",
       "      <td>1</td>\n",
       "      <td>1</td>\n",
       "      <td>1</td>\n",
       "      <td>1</td>\n",
       "      <td>1</td>\n",
       "      <td>1</td>\n",
       "      <td>1</td>\n",
       "      <td>1</td>\n",
       "      <td>1</td>\n",
       "      <td>...</td>\n",
       "      <td>1</td>\n",
       "      <td>1</td>\n",
       "      <td>1</td>\n",
       "      <td>1</td>\n",
       "      <td>1</td>\n",
       "      <td>1</td>\n",
       "      <td>1</td>\n",
       "      <td>1</td>\n",
       "      <td>1</td>\n",
       "      <td>1</td>\n",
       "    </tr>\n",
       "  </tbody>\n",
       "</table>\n",
       "<p>2 rows × 37 columns</p>\n",
       "</div>"
      ],
      "text/plain": [
       "                  subsystem WT_LFnC_(F:M) WT_LFnC_(F<M) WT_LFnC_(F>M)  \\\n",
       "23      Tyrosine metabolism             1    0.00102963             1   \n",
       "45  Sphingolipid metabolism             1             1             1   \n",
       "\n",
       "   WT_HFnC_(F:M) WT_HFnC_(F<M) WT_HFnC_(F>M) WT_HFC_(F:M) WT_HFC_(F<M)  \\\n",
       "23             1             1             1            1            1   \n",
       "45             1             1             1            1            1   \n",
       "\n",
       "   WT_HFC_(F>M)  ... LFnC_(F>M) HFnC_(F:M) HFnC_(F<M) HFnC_(F>M) HFC_(F:M)  \\\n",
       "23            1  ...          1          1          1          1         1   \n",
       "45            1  ...          1          1          1          1         1   \n",
       "\n",
       "   HFC_(F<M) HFC_(F>M) (F:M) (F<M) (F>M)  \n",
       "23         1         1     1     1     1  \n",
       "45         1         1     1     1     1  \n",
       "\n",
       "[2 rows x 37 columns]"
      ]
     },
     "execution_count": 25,
     "metadata": {},
     "output_type": "execute_result"
    }
   ],
   "source": [
    "df_gender_enrich_q[(df_gender_enrich_q[df_gender_enrich_q.columns[1:]] < 0.05).any(axis=1)]"
   ]
  },
  {
   "cell_type": "code",
   "execution_count": 26,
   "metadata": {},
   "outputs": [
    {
     "data": {
      "text/html": [
       "<div>\n",
       "<style scoped>\n",
       "    .dataframe tbody tr th:only-of-type {\n",
       "        vertical-align: middle;\n",
       "    }\n",
       "\n",
       "    .dataframe tbody tr th {\n",
       "        vertical-align: top;\n",
       "    }\n",
       "\n",
       "    .dataframe thead th {\n",
       "        text-align: right;\n",
       "    }\n",
       "</style>\n",
       "<table border=\"1\" class=\"dataframe\">\n",
       "  <thead>\n",
       "    <tr style=\"text-align: right;\">\n",
       "      <th></th>\n",
       "      <th>subsystem</th>\n",
       "      <th>F_WT_(LFnC:HFnC)</th>\n",
       "      <th>F_WT_(LFnC&lt;HFnC)</th>\n",
       "      <th>F_WT_(LFnC&gt;HFnC)</th>\n",
       "      <th>F_WT_(LFnC:HFC)</th>\n",
       "      <th>F_WT_(LFnC&lt;HFC)</th>\n",
       "      <th>F_WT_(LFnC&gt;HFC)</th>\n",
       "      <th>F_WT_(HFnC:HFC)</th>\n",
       "      <th>F_WT_(HFnC&lt;HFC)</th>\n",
       "      <th>F_WT_(HFnC&gt;HFC)</th>\n",
       "      <th>...</th>\n",
       "      <th>KO_(HFnC&gt;HFC)</th>\n",
       "      <th>(LFnC:HFnC)</th>\n",
       "      <th>(LFnC&lt;HFnC)</th>\n",
       "      <th>(LFnC&gt;HFnC)</th>\n",
       "      <th>(LFnC:HFC)</th>\n",
       "      <th>(LFnC&lt;HFC)</th>\n",
       "      <th>(LFnC&gt;HFC)</th>\n",
       "      <th>(HFnC:HFC)</th>\n",
       "      <th>(HFnC&lt;HFC)</th>\n",
       "      <th>(HFnC&gt;HFC)</th>\n",
       "    </tr>\n",
       "  </thead>\n",
       "  <tbody>\n",
       "    <tr>\n",
       "      <th>3</th>\n",
       "      <td>Glycine, serine, alanine, and threonine metabo...</td>\n",
       "      <td>1</td>\n",
       "      <td>1</td>\n",
       "      <td>1</td>\n",
       "      <td>1</td>\n",
       "      <td>1</td>\n",
       "      <td>1</td>\n",
       "      <td>1</td>\n",
       "      <td>1</td>\n",
       "      <td>1</td>\n",
       "      <td>...</td>\n",
       "      <td>1</td>\n",
       "      <td>1</td>\n",
       "      <td>1</td>\n",
       "      <td>1</td>\n",
       "      <td>1</td>\n",
       "      <td>1</td>\n",
       "      <td>1</td>\n",
       "      <td>1</td>\n",
       "      <td>1</td>\n",
       "      <td>1</td>\n",
       "    </tr>\n",
       "    <tr>\n",
       "      <th>12</th>\n",
       "      <td>Transport, peroxisomal</td>\n",
       "      <td>1</td>\n",
       "      <td>1</td>\n",
       "      <td>1</td>\n",
       "      <td>1</td>\n",
       "      <td>1</td>\n",
       "      <td>1</td>\n",
       "      <td>1</td>\n",
       "      <td>1</td>\n",
       "      <td>1</td>\n",
       "      <td>...</td>\n",
       "      <td>1</td>\n",
       "      <td>1</td>\n",
       "      <td>1</td>\n",
       "      <td>1</td>\n",
       "      <td>1</td>\n",
       "      <td>1</td>\n",
       "      <td>1</td>\n",
       "      <td>1</td>\n",
       "      <td>1</td>\n",
       "      <td>1</td>\n",
       "    </tr>\n",
       "  </tbody>\n",
       "</table>\n",
       "<p>2 rows × 82 columns</p>\n",
       "</div>"
      ],
      "text/plain": [
       "                                            subsystem F_WT_(LFnC:HFnC)  \\\n",
       "3   Glycine, serine, alanine, and threonine metabo...                1   \n",
       "12                             Transport, peroxisomal                1   \n",
       "\n",
       "   F_WT_(LFnC<HFnC) F_WT_(LFnC>HFnC) F_WT_(LFnC:HFC) F_WT_(LFnC<HFC)  \\\n",
       "3                 1                1               1               1   \n",
       "12                1                1               1               1   \n",
       "\n",
       "   F_WT_(LFnC>HFC) F_WT_(HFnC:HFC) F_WT_(HFnC<HFC) F_WT_(HFnC>HFC)  ...  \\\n",
       "3                1               1               1               1  ...   \n",
       "12               1               1               1               1  ...   \n",
       "\n",
       "   KO_(HFnC>HFC) (LFnC:HFnC) (LFnC<HFnC) (LFnC>HFnC) (LFnC:HFC) (LFnC<HFC)  \\\n",
       "3              1           1           1           1          1          1   \n",
       "12             1           1           1           1          1          1   \n",
       "\n",
       "   (LFnC>HFC) (HFnC:HFC) (HFnC<HFC) (HFnC>HFC)  \n",
       "3           1          1          1          1  \n",
       "12          1          1          1          1  \n",
       "\n",
       "[2 rows x 82 columns]"
      ]
     },
     "execution_count": 26,
     "metadata": {},
     "output_type": "execute_result"
    }
   ],
   "source": [
    "df_diet_enrich_q[(df_diet_enrich_q[df_diet_enrich_q.columns[1:]] < 0.05).any(axis=1)]"
   ]
  },
  {
   "cell_type": "code",
   "execution_count": null,
   "metadata": {},
   "outputs": [],
   "source": []
  },
  {
   "cell_type": "code",
   "execution_count": null,
   "metadata": {},
   "outputs": [],
   "source": []
  }
 ],
 "metadata": {
  "kernelspec": {
   "display_name": "Python 3.7.3 64-bit ('base': conda)",
   "language": "python",
   "name": "python37364bitbasecondacd385dda59854559b44e3f82ede14f15"
  },
  "language_info": {
   "codemirror_mode": {
    "name": "ipython",
    "version": 3
   },
   "file_extension": ".py",
   "mimetype": "text/x-python",
   "name": "python",
   "nbconvert_exporter": "python",
   "pygments_lexer": "ipython3",
   "version": "3.7.3"
  }
 },
 "nbformat": 4,
 "nbformat_minor": 2
}
