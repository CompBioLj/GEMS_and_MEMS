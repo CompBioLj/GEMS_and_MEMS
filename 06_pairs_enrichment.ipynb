{
 "cells": [
  {
   "cell_type": "markdown",
   "metadata": {},
   "source": [
    "# Enrichment test\n",
    "What is the probability to randomly select at least k \"changed\" reactions out of n \"changed\" reactions when selecting N out of M reactions.   \n",
    "* k: number of diferentially expressed reactions in a subsystem,\n",
    "* n: number of diferentially expressed reactions in the model,\n",
    "* N: number of reactions in a subsystem,\n",
    "* M: number of reactions in the model.\n",
    "\n",
    "$P(x \\geq k) = 1 - hypergeom.cdf(k-1, M, n, N)$\n"
   ]
  },
  {
   "cell_type": "code",
   "execution_count": null,
   "metadata": {},
   "outputs": [],
   "source": [
    "import numpy as np\n",
    "import pandas as pd\n",
    "import matplotlib.pyplot as plt\n",
    "\n",
    "from sklearn.decomposition import PCA\n",
    "from itertools import permutations, product, combinations\n",
    "from scipy.stats import pearsonr, spearmanr, mannwhitneyu, hypergeom\n",
    "\n",
    "from itertools import permutations\n",
    "from itertools import combinations"
   ]
  },
  {
   "cell_type": "code",
   "execution_count": null,
   "metadata": {},
   "outputs": [],
   "source": [
    "#https://www.scribbr.com/statistics/two-way-anova/\n",
    "import statsmodels.api as sm\n",
    "from statsmodels.formula.api import ols\n",
    "import statsmodels.stats.multitest as multi"
   ]
  },
  {
   "cell_type": "code",
   "execution_count": null,
   "metadata": {},
   "outputs": [],
   "source": [
    "import warnings\n",
    "from statsmodels.tools.sm_exceptions import ConvergenceWarning, HessianInversionWarning, ValueWarning\n",
    "# ignore these warning\n",
    "warnings.filterwarnings(\"ignore\", category=ConvergenceWarning)\n",
    "warnings.filterwarnings(\"ignore\", category=HessianInversionWarning)\n",
    "warnings.filterwarnings(\"ignore\", category=ValueWarning)\n",
    "warnings.filterwarnings(\"ignore\", category=RuntimeWarning)"
   ]
  },
  {
   "cell_type": "markdown",
   "metadata": {},
   "source": [
    "## Settings"
   ]
  },
  {
   "cell_type": "code",
   "execution_count": null,
   "metadata": {},
   "outputs": [],
   "source": [
    "#analysis = \"Fastcore\"\n",
    "analysis = \"iMAT\"\n",
    "\n",
    "#analysis = \"gimme\"\n",
    "#analysis = \"init\"\n",
    "#analysis = \"tinit\""
   ]
  },
  {
   "cell_type": "code",
   "execution_count": null,
   "metadata": {},
   "outputs": [],
   "source": [
    "#analysis_type = \"FVA\"\n",
    "#analysis_type = \"pFBA\"\n",
    "analysis_type = \"sampling\""
   ]
  },
  {
   "cell_type": "code",
   "execution_count": null,
   "metadata": {},
   "outputs": [],
   "source": [
    "fdr = True"
   ]
  },
  {
   "cell_type": "markdown",
   "metadata": {},
   "source": [
    "## Read the data"
   ]
  },
  {
   "cell_type": "code",
   "execution_count": null,
   "metadata": {},
   "outputs": [],
   "source": [
    "reactions =  pd.read_csv(\"data\\\\\" + analysis_type + \"_\" + analysis + \".csv\", sep=\";\").iloc[:,0]"
   ]
  },
  {
   "cell_type": "code",
   "execution_count": null,
   "metadata": {},
   "outputs": [],
   "source": [
    "if fdr:\n",
    "    df_genotype = pd.read_csv(\"results_pairs\\\\\" + analysis_type + \"_\"+ analysis + \"_genotype_compare_q.csv\")\n",
    "    df_gender = pd.read_csv(\"results_pairs\\\\\" + analysis_type + \"_\"+ analysis + \"_gender_compare_q.csv\")\n",
    "    df_diet = pd.read_csv(\"results_pairs\\\\\" + analysis_type + \"_\"+ analysis + \"_diet_compare_q.csv\")\n",
    "else:\n",
    "    df_genotype = pd.read_csv(\"results_pairs\\\\\" + analysis_type + \"_\" + analysis + \"_genotype_compare.csv\")\n",
    "    df_gender = pd.read_csv(\"results_pairs\\\\\" + analysis_type + \"_\" + analysis + \"_gender_compare.csv\")\n",
    "    df_diet = pd.read_csv(\"results_pairs\\\\\" + analysis_type + \"_\" + analysis + \"_diet_compare.csv\")"
   ]
  },
  {
   "cell_type": "code",
   "execution_count": null,
   "metadata": {},
   "outputs": [],
   "source": [
    "tests_genotype = list(df_genotype.columns[1:])\n",
    "tests_gender = list(df_gender.columns[1:])\n",
    "tests_diet = list(df_diet.columns[1:])"
   ]
  },
  {
   "cell_type": "markdown",
   "metadata": {},
   "source": [
    "### Fill the analysis data with all the reactions\n",
    "As a basis I take the union of the reactions included in the selected group of models."
   ]
  },
  {
   "cell_type": "code",
   "execution_count": null,
   "metadata": {},
   "outputs": [],
   "source": [
    "df_reactions = pd.DataFrame(columns=[\"rxn\"])\n",
    "df_reactions[\"rxn\"] = reactions\n",
    "\n",
    "df_genotype = pd.merge(df_genotype, df_reactions, how=\"outer\").fillna(1)\n",
    "df_gender = pd.merge(df_gender, df_reactions, how=\"outer\").fillna(1)\n",
    "df_diet = pd.merge(df_diet, df_reactions, how=\"outer\").fillna(1)"
   ]
  },
  {
   "cell_type": "markdown",
   "metadata": {},
   "source": [
    "### Get the subsystems data"
   ]
  },
  {
   "cell_type": "code",
   "execution_count": null,
   "metadata": {},
   "outputs": [],
   "source": [
    "df_subsystems = pd.read_csv(\"models\\\\iMM865_subsystems.txt\", sep=\";\")\n",
    "df_subsystems_f = df_subsystems.copy()\n",
    "df_subsystems_f['rxn'] = df_subsystems_f['rxn']+'_f'\n",
    "df_subsystems_b = df_subsystems.copy()\n",
    "df_subsystems_b['rxn'] = df_subsystems_b['rxn']+'_b'\n",
    "\n",
    "df_subsystems = pd.concat((df_subsystems, df_subsystems_b, df_subsystems_f), ignore_index=True).reindex()\n",
    "\n",
    "df_subsystems.head()"
   ]
  },
  {
   "cell_type": "markdown",
   "metadata": {},
   "source": [
    "Keep only the reactions that are present in the observed models"
   ]
  },
  {
   "cell_type": "code",
   "execution_count": null,
   "metadata": {},
   "outputs": [],
   "source": [
    "df_subsystems = df_subsystems[df_subsystems.rxn.isin(reactions)]"
   ]
  },
  {
   "cell_type": "code",
   "execution_count": null,
   "metadata": {},
   "outputs": [],
   "source": [
    "subsystems = df_subsystems.subsystem.dropna().unique()"
   ]
  },
  {
   "cell_type": "markdown",
   "metadata": {},
   "source": [
    "### Merge"
   ]
  },
  {
   "cell_type": "code",
   "execution_count": null,
   "metadata": {},
   "outputs": [],
   "source": [
    "df_genotype = pd.merge(df_genotype, df_subsystems, how=\"left\")\n",
    "df_gender = pd.merge(df_gender, df_subsystems, how=\"left\")\n",
    "df_diet = pd.merge(df_diet, df_subsystems, how=\"left\")"
   ]
  },
  {
   "cell_type": "code",
   "execution_count": null,
   "metadata": {},
   "outputs": [],
   "source": [
    "df_genotype = df_genotype[['rxn', 'subsystem'] + tests_genotype]\n",
    "df_gender = df_gender[['rxn', 'subsystem'] + tests_gender]\n",
    "df_diet = df_diet[['rxn', 'subsystem'] + tests_diet]"
   ]
  },
  {
   "cell_type": "markdown",
   "metadata": {},
   "source": [
    "## Analysis"
   ]
  },
  {
   "cell_type": "code",
   "execution_count": null,
   "metadata": {},
   "outputs": [],
   "source": [
    "df_test"
   ]
  },
  {
   "cell_type": "code",
   "execution_count": null,
   "metadata": {},
   "outputs": [],
   "source": [
    "\"\"\"\n",
    "GENOTYPE\n",
    "\"\"\"\n",
    "df_genotype_enrich = pd.DataFrame(columns = ['subsystem'] + tests_genotype)\n",
    "df_genotype_enrich['subsystem'] = subsystems\n",
    "\n",
    "n_all = len(reactions)\n",
    "\n",
    "for test in tests_genotype:\n",
    "    df_test = df_genotype[[test,'subsystem']]\n",
    "    n_signif_all = (df_test[test] < 0.05).sum()         \n",
    "    for subsystem in subsystems:\n",
    "        df_sub = df_test[df_test.subsystem == subsystem]\n",
    "        n_sub = len(df_sub)\n",
    "        n_signif_sub = (df_sub[test] < 0.05).sum()\n",
    "        \n",
    "        M = n_all # all reactions in a model\n",
    "        n = n_signif_all # all significant \n",
    "        N = n_sub # reactions in a subsystem\n",
    "        k = n_signif_sub # significant in a subsystem\n",
    "        \n",
    "        if n:         \n",
    "            p = 1 - hypergeom.cdf(k-1, M, n, N)                \n",
    "        else:\n",
    "            p = 1.0\n",
    "            \n",
    "        df_genotype_enrich.loc[(df_genotype_enrich['subsystem'] == subsystem), test] = p\n",
    "        \n",
    "        #print(k, M, n, N)     "
   ]
  },
  {
   "cell_type": "code",
   "execution_count": null,
   "metadata": {},
   "outputs": [],
   "source": [
    "\"\"\"\n",
    "GENDER\n",
    "\"\"\"\n",
    "df_gender_enrich = pd.DataFrame(columns = ['subsystem'] + tests_gender)\n",
    "df_gender_enrich['subsystem'] = subsystems\n",
    "\n",
    "n_all = len(reactions)\n",
    "\n",
    "for test in tests_gender:\n",
    "    df_test = df_gender[[test,'subsystem']]\n",
    "    n_signif_all = (df_test[test] < 0.05).sum()         \n",
    "    for subsystem in subsystems:\n",
    "        df_sub = df_test[df_test.subsystem == subsystem]\n",
    "        n_sub = len(df_sub)\n",
    "        n_signif_sub = (df_sub[test] < 0.05).sum()\n",
    "        \n",
    "        M = n_all # all reactions in a model\n",
    "        n = n_signif_all # all significant \n",
    "        N = n_sub # reactions in a subsystem\n",
    "        k = n_signif_sub # significant in a subsystem\n",
    "        \n",
    "        if n:         \n",
    "            p = 1 - hypergeom.cdf(k-1, M, n, N)                \n",
    "        else:\n",
    "            p = 1.0\n",
    "            \n",
    "        df_gender_enrich.loc[(df_gender_enrich['subsystem'] == subsystem), test] = p\n",
    "        \n",
    "        #print(k, M, n, N)     "
   ]
  },
  {
   "cell_type": "code",
   "execution_count": null,
   "metadata": {
    "scrolled": false
   },
   "outputs": [],
   "source": [
    "\"\"\"\n",
    "DIET\n",
    "\"\"\"\n",
    "df_diet_enrich = pd.DataFrame(columns = ['subsystem'] + tests_diet)\n",
    "df_diet_enrich['subsystem'] = subsystems\n",
    "\n",
    "n_all = len(reactions)\n",
    "\n",
    "\n",
    "for test in tests_diet:\n",
    "    df_test = df_diet[[test,'subsystem']]\n",
    "    n_signif_all = (df_test[test] < 0.05).sum()         \n",
    "    \n",
    "    \n",
    "    for subsystem in subsystems:\n",
    "        df_sub = df_test[df_test.subsystem == subsystem]\n",
    "        n_sub = len(df_sub)\n",
    "        n_signif_sub = (df_sub[test] < 0.05).sum()\n",
    "                \n",
    "        \n",
    "        k = n_signif_sub # significant in a subsystem\n",
    "        M = n_all # all reactions in a model\n",
    "        n = n_signif_all # all significant \n",
    "        N = n_sub # reactions in a subsystem\n",
    "        \n",
    "        \n",
    "        if n:         \n",
    "            p = 1 - hypergeom.cdf(k-1, M, n, N)                \n",
    "        else:\n",
    "            p = 1.0\n",
    "\n",
    "        df_diet_enrich.loc[(df_diet_enrich['subsystem'] == subsystem), test] = p\n",
    "        \n",
    "        if subsystem.startswith(\"Chole\") and test.startswith(\"(HFnC\"):\n",
    "            print(test)\n",
    "            print(\"k, M, n, N:\", k, M, n, N)   \n",
    "            print(\"p\",p)\n",
    "        "
   ]
  },
  {
   "cell_type": "code",
   "execution_count": null,
   "metadata": {},
   "outputs": [],
   "source": [
    "# at least 0 reactions are changed\n",
    "1 - hypergeom.cdf(-1, 6781, 110, 10)"
   ]
  },
  {
   "cell_type": "code",
   "execution_count": null,
   "metadata": {},
   "outputs": [],
   "source": [
    "1 - hypergeom.cdf(2, 6781, 110, 10)"
   ]
  },
  {
   "cell_type": "code",
   "execution_count": null,
   "metadata": {},
   "outputs": [],
   "source": []
  },
  {
   "cell_type": "markdown",
   "metadata": {},
   "source": [
    "## Save the results"
   ]
  },
  {
   "cell_type": "code",
   "execution_count": null,
   "metadata": {},
   "outputs": [],
   "source": [
    "df_genotype_enrich.to_csv(\"results_enrich\\\\\" + analysis_type + \"_\" + analysis + \"_pairs_genotype_enrich.csv\", index=False)\n",
    "df_gender_enrich.to_csv(\"results_enrich\\\\\" + analysis_type + \"_\" + analysis + \"_pairs_gender_enrich.csv\", index=False)\n",
    "df_diet_enrich.to_csv(\"results_enrich\\\\\" + analysis_type + \"_\" + analysis + \"_pairs_diet_enrich.csv\", index=False)"
   ]
  },
  {
   "cell_type": "code",
   "execution_count": null,
   "metadata": {},
   "outputs": [],
   "source": [
    "df_genotype_enrich_q = df_genotype_enrich.copy()\n",
    "df_gender_enrich_q = df_gender_enrich.copy()\n",
    "df_diet_enrich_q = df_diet_enrich.copy()\n",
    "\n",
    "for c in df_genotype_enrich_q.columns[1:]:    \n",
    "    df_genotype_enrich_q[c] = multi.multipletests(df_genotype_enrich_q[c], method = 'fdr_bh')[1]\n",
    "for c in df_gender_enrich_q.columns[1:]:\n",
    "    df_gender_enrich_q[c] = multi.multipletests(df_gender_enrich_q[c], method = 'fdr_bh')[1]\n",
    "for c in df_diet_enrich_q.columns[1:]:\n",
    "    df_diet_enrich_q[c] = multi.multipletests(df_diet_enrich_q[c], method = 'fdr_bh')[1]"
   ]
  },
  {
   "cell_type": "code",
   "execution_count": null,
   "metadata": {},
   "outputs": [],
   "source": [
    "df_genotype_enrich_q.to_csv(\"results_enrich\\\\\" + analysis_type + \"_\" + analysis + \"_pairs_genotype_enrich_q.csv\", index=False)\n",
    "df_gender_enrich_q.to_csv(\"results_enrich\\\\\" + analysis_type + \"_\" + analysis + \"_pairs_gender_enrich_q.csv\", index=False)\n",
    "df_diet_enrich_q.to_csv(\"results_enrich\\\\\" + analysis_type + \"_\" + analysis + \"_pairs_diet_enrich_q.csv\", index=False)"
   ]
  },
  {
   "cell_type": "code",
   "execution_count": null,
   "metadata": {},
   "outputs": [],
   "source": [
    "df_diet_enrich_q.loc[df_diet_enrich_q.subsystem.str.startswith(\"Sq\"), [\"subsystem\",\"M_WT_(HFnC>HFC)\", \"M_WT_(HFnC<HFC)\", \"M_WT_(HFnC:HFC)\"]]\n"
   ]
  },
  {
   "cell_type": "code",
   "execution_count": null,
   "metadata": {},
   "outputs": [],
   "source": []
  },
  {
   "cell_type": "code",
   "execution_count": null,
   "metadata": {},
   "outputs": [],
   "source": [
    "df_genotype_enrich_q[(df_genotype_enrich_q[df_genotype_enrich_q.columns[1:]] < 0.05).any(axis=1)]"
   ]
  },
  {
   "cell_type": "code",
   "execution_count": null,
   "metadata": {},
   "outputs": [],
   "source": [
    "df_gender_enrich_q[(df_gender_enrich_q[df_gender_enrich_q.columns[1:]] < 0.05).any(axis=1)]"
   ]
  },
  {
   "cell_type": "code",
   "execution_count": null,
   "metadata": {},
   "outputs": [],
   "source": [
    "df_diet_enrich_q[(df_diet_enrich_q[df_diet_enrich_q.columns[1:]] < 0.05).any(axis=1)]"
   ]
  },
  {
   "cell_type": "code",
   "execution_count": null,
   "metadata": {},
   "outputs": [],
   "source": []
  },
  {
   "cell_type": "code",
   "execution_count": null,
   "metadata": {},
   "outputs": [],
   "source": []
  }
 ],
 "metadata": {
  "kernelspec": {
   "display_name": "Python 3.7.3 64-bit ('base': conda)",
   "language": "python",
   "name": "python37364bitbasecondacd385dda59854559b44e3f82ede14f15"
  },
  "language_info": {
   "codemirror_mode": {
    "name": "ipython",
    "version": 3
   },
   "file_extension": ".py",
   "mimetype": "text/x-python",
   "name": "python",
   "nbconvert_exporter": "python",
   "pygments_lexer": "ipython3",
   "version": "3.7.3"
  }
 },
 "nbformat": 4,
 "nbformat_minor": 2
}
